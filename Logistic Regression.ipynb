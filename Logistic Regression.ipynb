{
 "cells": [
  {
   "cell_type": "code",
   "execution_count": 5,
   "metadata": {},
   "outputs": [],
   "source": [
    "import matplotlib.pyplot as plt\n",
    "import numpy as np\n",
    "import pandas as pd\n",
    "import seaborn as sns\n",
    "import math\n",
    "from sklearn.metrics import r2_score\n",
    "from sklearn.linear_model import SGDRegressor as sgd"
   ]
  },
  {
   "cell_type": "code",
   "execution_count": 30,
   "metadata": {},
   "outputs": [],
   "source": [
    "class LogisticRegression:\n",
    "    \n",
    "    # The constructor for Logistic Regression\n",
    "    def __init__ ( self,shape, loss = 'mse', lr = 0.001, iters = 1000,initialization = None ):\n",
    "        \n",
    "        # The list to hold the exponential value of w*x, for further easy calculating gradient\n",
    "        self.exponentialList = []\n",
    "         # The list to hold the sigmoid value of w*x, for further easy calculating gradient\n",
    "        self.sigmoidList = []\n",
    "        # The list to hold the predicted value\n",
    "        self.predictionList = []\n",
    "        self.predictionValList = []\n",
    "        self.sigmoidValList = []\n",
    "        self.exponentialValList = []\n",
    "        # Initialization of w vector\n",
    "        self.w = initialization\n",
    "        # The learning rate, default is 0.0001\n",
    "        self.lr = lr\n",
    "        # The iterations, default is 1000\n",
    "        self.iters = iters\n",
    "        \n",
    "        '''\n",
    "        The loss function for prediction, default setting is mean square error,\n",
    "        or another choice is binary cross entropy.\n",
    "        The loss function for mean squared error is :\n",
    "            loss = (y_actual - y_pred)**2 \n",
    "            y_pred = total_reads * probability\n",
    "            y_actual = methylated_counts\n",
    "        \n",
    "        The loss function for binary cross entropy is :\n",
    "            loss = -(methylated_counts * np.log(probability) + unmethylated_counts*np.log(1-probability))\n",
    "            Methylated_counts and unmethylated_counts are read from outside file.\n",
    "        '''\n",
    "        if loss != 'mse' and loss != 'binary_crossentropy':\n",
    "            raise ValueError(\"Incorrect Loss Function. Argument should be mse or binary_crossentropy\")\n",
    "        self.loss = loss\n",
    "        \n",
    "    # The sigmoid Funtion implementation\n",
    "    # During the calculation, we would store the result for future reference\n",
    "    def sigmoid(self,data,train):\n",
    "\n",
    "        if train:\n",
    "            # If the dimension does not match\n",
    "            if len(self.exponentialList) != data.shape[0]:\n",
    "                self.exponentialList = [0]*data.shape[0]\n",
    "                self.sigmoidList = [0]*data.shape[0]\n",
    "                self.predictionList = [0]*data.shape[0] \n",
    "\n",
    "            for i,d in enumerate(data):\n",
    "                exponential = np.exp(-np.matmul(d,self.w))\n",
    "                sigmoid = 1/(1+exponential)\n",
    "            \n",
    "                # Store the value for future calculating the gradients\n",
    "                self.exponentialList[i] = exponential\n",
    "                self.sigmoidList[i] = sigmoid\n",
    "        else:\n",
    "            # If the dimension does not match\n",
    "            if len(self.exponentialValList) != data.shape[0]:\n",
    "                self.exponentialValList = [0]*data.shape[0]\n",
    "                self.sigmoidValList = [0]*data.shape[0]\n",
    "                self.predictionValList = [0]*data.shape[0] \n",
    "            for i,d in enumerate(data):\n",
    "                exponential = np.exp(-np.matmul(d,self.w))\n",
    "                sigmoid = 1/(1+exponential)\n",
    "            \n",
    "                # Store the value for future calculating the gradients\n",
    "                self.exponentialValList[i] = exponential\n",
    "                self.sigmoidValList[i] = sigmoid\n",
    "    \n",
    "    # Prediction function for Logistic Regression\n",
    "    def predict (self,data, reads,train):\n",
    "        # Calculate the sigmoid function for each DNA sequence\n",
    "        self.sigmoid(data,train)\n",
    "        for i in range(len(data)):\n",
    "            if train:\n",
    "                # Calculate the expected value for this binomial distribution\n",
    "                self.predictionList[i] = reads[i] * self.sigmoidList[i]\n",
    "            else:\n",
    "                self.predictionValList[i] = reads[i] * self.sigmoidValList[i]\n",
    "    \n",
    "    # Gradient Calculation during training\n",
    "    def gradient(self,data, reads, methy):\n",
    "        \n",
    "        '''\n",
    "        data: kmers counts\n",
    "        reads: total reads for one DNA sequence\n",
    "        methy: methylated counts for that DNA sequence\n",
    "        '''\n",
    "        \n",
    "        #Initialize the gradient\n",
    "        gradient = np.zeros(self.w.shape)\n",
    "        \n",
    "        if self.loss == 'mse':\n",
    "            \n",
    "            for i,d in enumerate(data):\n",
    "                gradient += 2*(methy[i]-reads[i] * self.sigmoidList[i])*(-1)*reads[i]*\\\n",
    "                (self.sigmoidList[i]**2)*self.exponentialList[i]*d\n",
    "            #Take the normalization of gradient\n",
    "            gradient = gradient/sum(reads)\n",
    "            return gradient\n",
    "        # If the loss function is binomial crossentropy\n",
    "        else:\n",
    "            for i,d in enumerate(data):\n",
    "                gradient += reads[i]*self.sigmoidList[i]*self.exponentialList[i]*(-1)*d + \\\n",
    "                (reads[i] - methy[i])*d\n",
    "            #Take the normalization of gradient\n",
    "            gradient = gradient/sum(reads)\n",
    "            return gradient\n",
    "        \n",
    "    # The loss function calculation   \n",
    "    def lossCal (self, data, reads, methy,train=True):\n",
    "        # predict the data and then store the results\n",
    "        self.predict(data,reads,train)\n",
    "        \n",
    "        loss = 0\n",
    "        if self.loss == 'mse':\n",
    "            for i in range(len(data)):\n",
    "                loss += (self.predictionList[i] - methy[i])**2\n",
    "            return loss/len(data)\n",
    "        else:\n",
    "            for i in range(len(data)):\n",
    "                loss += -(methy[i]*np.log(self.sigmoidList[i]) + (reads[i] - methy[i])*np.log(1-self.sigmoidList[i]))\n",
    "            return loss/len(data)\n",
    "        \n",
    "    def fit(self,data, reads, methy,test_data,test_reads,test_methy):\n",
    "        #initialize lists for storing variable\n",
    "        self.exponentialList = [0]*data.shape[0]\n",
    "        self.sigmoidList = [0]*data.shape[0]\n",
    "        self.predictionList = [0]*data.shape[0] \n",
    "        \n",
    "        currLoss = [self.lossCal(data,reads,methy)]\n",
    "        valLoss = [self.lossCal(test_data,test_reads,test_methy,train=False)]\n",
    "        for i in range(self.iters):\n",
    "            # calculate gradient\n",
    "            step = self.gradient(data,reads,methy)\n",
    "            self.w -= self.lr * step\n",
    "            # Rerun Logistic Regression, calculate the loss, update the lists to store the data\n",
    "            newLoss = self.lossCal(data,reads,methy)\n",
    "            newValLoss = self.lossCal(test_data,test_reads,test_methy,train=False)\n",
    "            if abs(newLoss - currLoss[-1]) < 0.00001:\n",
    "                print(\"The iterator stops at \", i, \" steps\")\n",
    "                break\n",
    "            currLoss.append(newLoss)\n",
    "            valLoss.append(newValLoss)\n",
    "            if i % 20 == 0:\n",
    "                print(\"Training epoch: \", i)\n",
    "                print(\"\\tTraining Loss: \",newLoss)\n",
    "                print('\\tValidation Loss: ',newValLoss)\n",
    "        return currLoss,valLoss"
   ]
  },
  {
   "cell_type": "code",
   "execution_count": 4,
   "metadata": {},
   "outputs": [
    {
     "name": "stdout",
     "output_type": "stream",
     "text": [
      "(58959, 2080) (58959,) (58959,) (58959,)\n"
     ]
    }
   ],
   "source": [
    "train_data = pd.read_csv('../CNN_Keras/SimulationCNN/Kmers6_counts_600bp.csv')\n",
    "train_reads = pd.read_csv('../data/Mouse_DMRs_counts_total.csv',header = None)\n",
    "train_methys = pd.read_csv('../data/Mouse_DMRs_counts_methylated.csv',header = None)\n",
    "train_methy_level = pd.read_csv('../data/Mouse_DMRs_methylation_level.csv',header = None)\n",
    "cell_type = 5\n",
    "data = train_data.as_matrix()\n",
    "level = train_methy_level.as_matrix()[:,cell_type]\n",
    "reads = train_reads.as_matrix()[:,cell_type]\n",
    "methy = train_methys.as_matrix()[:,cell_type]\n",
    "print(data.shape,level.shape,reads.shape,methy.shape)\n",
    "data_train = data[:48000]\n",
    "level_train = level[:48000]\n",
    "reads_train = reads[:48000]\n",
    "methy_train = methy[:48000]\n",
    "data_test = data[48000:]\n",
    "level_test = level[48000:]\n",
    "reads_test = reads[48000:]\n",
    "methy_test = methy[48000:]"
   ]
  },
  {
   "cell_type": "code",
   "execution_count": 32,
   "metadata": {},
   "outputs": [
    {
     "data": {
      "text/plain": [
       "SGDRegressor(alpha=0.0001, average=False, epsilon=0.1, eta0=0.01,\n",
       "       fit_intercept=True, l1_ratio=0.15, learning_rate='invscaling',\n",
       "       loss='squared_loss', n_iter=200, penalty='l1', power_t=0.25,\n",
       "       random_state=None, shuffle=True, verbose=0, warm_start=False)"
      ]
     },
     "execution_count": 32,
     "metadata": {},
     "output_type": "execute_result"
    }
   ],
   "source": [
    "clf = sgd(loss = 'squared_loss',penalty = 'l1',n_iter=200)\n",
    "clf.fit(data_train,level_train)"
   ]
  },
  {
   "cell_type": "code",
   "execution_count": 33,
   "metadata": {},
   "outputs": [
    {
     "data": {
      "text/plain": [
       "0.2648154729228096"
      ]
     },
     "execution_count": 33,
     "metadata": {},
     "output_type": "execute_result"
    }
   ],
   "source": [
    "clf.score(data_train,level_train)"
   ]
  },
  {
   "cell_type": "code",
   "execution_count": 34,
   "metadata": {},
   "outputs": [],
   "source": [
    "lr = LogisticRegression(train_data.shape,lr=0.005,loss = 'binary_crossentropy',iters = 500,initialization = clf.coef_)"
   ]
  },
  {
   "cell_type": "code",
   "execution_count": 35,
   "metadata": {},
   "outputs": [
    {
     "name": "stdout",
     "output_type": "stream",
     "text": [
      "Training epoch:  0\n",
      "\tTraining Loss:  53.991161265743415\n",
      "\tValidation Loss:  55.3310142646287\n",
      "Training epoch:  20\n",
      "\tTraining Loss:  47.429377663558064\n",
      "\tValidation Loss:  48.649384784005704\n",
      "Training epoch:  40\n",
      "\tTraining Loss:  47.06048124511136\n",
      "\tValidation Loss:  48.32848971014192\n",
      "Training epoch:  60\n",
      "\tTraining Loss:  46.969776743882335\n",
      "\tValidation Loss:  48.31806684709823\n",
      "Training epoch:  80\n",
      "\tTraining Loss:  46.8987526583388\n",
      "\tValidation Loss:  48.33113332338361\n",
      "Training epoch:  100\n",
      "\tTraining Loss:  46.83343113462243\n",
      "\tValidation Loss:  48.34816707285665\n",
      "Training epoch:  120\n",
      "\tTraining Loss:  46.772476630601176\n",
      "\tValidation Loss:  48.366920779677805\n",
      "Training epoch:  140\n",
      "\tTraining Loss:  46.71532931701174\n",
      "\tValidation Loss:  48.386816088836014\n",
      "Training epoch:  160\n",
      "\tTraining Loss:  46.661548391831964\n",
      "\tValidation Loss:  48.40755041869552\n",
      "Training epoch:  180\n",
      "\tTraining Loss:  46.61076313748873\n",
      "\tValidation Loss:  48.42890807191841\n",
      "Training epoch:  200\n",
      "\tTraining Loss:  46.562659366126276\n",
      "\tValidation Loss:  48.45072179826983\n",
      "Training epoch:  220\n",
      "\tTraining Loss:  46.51696967789996\n",
      "\tValidation Loss:  48.47285962908058\n",
      "Training epoch:  240\n",
      "\tTraining Loss:  46.47346550799203\n",
      "\tValidation Loss:  48.49521727642236\n",
      "Training epoch:  260\n",
      "\tTraining Loss:  46.43195058134133\n",
      "\tValidation Loss:  48.51771249889844\n",
      "Training epoch:  280\n",
      "\tTraining Loss:  46.39225552378732\n",
      "\tValidation Loss:  48.5402806329221\n",
      "Training epoch:  300\n",
      "\tTraining Loss:  46.3542334239877\n",
      "\tValidation Loss:  48.5628710029115\n",
      "Training epoch:  320\n",
      "\tTraining Loss:  46.31775617627187\n",
      "\tValidation Loss:  48.585444035778956\n",
      "Training epoch:  340\n",
      "\tTraining Loss:  46.28271146459652\n",
      "\tValidation Loss:  48.60796894540467\n",
      "Training epoch:  360\n",
      "\tTraining Loss:  46.249000272641375\n",
      "\tValidation Loss:  48.630421878340464\n",
      "Training epoch:  380\n",
      "\tTraining Loss:  46.216534825712095\n",
      "\tValidation Loss:  48.65278443211766\n",
      "Training epoch:  400\n",
      "\tTraining Loss:  46.18523688707387\n",
      "\tValidation Loss:  48.67504247406637\n",
      "Training epoch:  420\n",
      "\tTraining Loss:  46.15503634531381\n",
      "\tValidation Loss:  48.69718520210148\n",
      "Training epoch:  440\n",
      "\tTraining Loss:  46.12587004079254\n",
      "\tValidation Loss:  48.71920440003006\n",
      "Training epoch:  460\n",
      "\tTraining Loss:  46.09768078864394\n",
      "\tValidation Loss:  48.741093848965384\n",
      "Training epoch:  480\n",
      "\tTraining Loss:  46.07041656348498\n",
      "\tValidation Loss:  48.76284886379102\n"
     ]
    }
   ],
   "source": [
    "train_loss, val_loss = lr.fit(data_train,reads_train,methy_train,data_test,reads_test,methy_test)"
   ]
  },
  {
   "cell_type": "code",
   "execution_count": 8,
   "metadata": {},
   "outputs": [
    {
     "data": {
      "image/png": "[encoded data removed]",
      "text/plain": [
       "<matplotlib.figure.Figure at 0x7f59298eaeb8>"
      ]
     },
     "metadata": {
      "needs_background": "light"
     },
     "output_type": "display_data"
    }
   ],
   "source": [
    "# plot\n",
    "plt.plot(train_loss)\n",
    "plt.plot(val_loss)\n",
    "plt.show()"
   ]
  },
  {
   "cell_type": "code",
   "execution_count": 9,
   "metadata": {
    "scrolled": true
   },
   "outputs": [
    {
     "data": {
      "text/plain": [
       "-20.82898666904892"
      ]
     },
     "execution_count": 9,
     "metadata": {},
     "output_type": "execute_result"
    }
   ],
   "source": [
    "r2_score(lr.sigmoidValList, level_test)\n",
    "r2_score(lr.sigmoidList,level_train)"
   ]
  },
  {
   "cell_type": "code",
   "execution_count": null,
   "metadata": {},
   "outputs": [],
   "source": []
  }
 ],
 "metadata": {
  "kernelspec": {
   "display_name": "Python 3",
   "language": "python",
   "name": "python3"
  },
  "language_info": {
   "codemirror_mode": {
    "name": "ipython",
    "version": 3
   },
   "file_extension": ".py",
   "mimetype": "text/x-python",
   "name": "python",
   "nbconvert_exporter": "python",
   "pygments_lexer": "ipython3",
   "version": "3.5.2"
  }
 },
 "nbformat": 4,
 "nbformat_minor": 2
}
