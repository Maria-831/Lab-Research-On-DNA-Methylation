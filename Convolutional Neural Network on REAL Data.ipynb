{
 "cells": [
  {
   "cell_type": "code",
   "execution_count": 1,
   "metadata": {},
   "outputs": [
    {
     "name": "stderr",
     "output_type": "stream",
     "text": [
      "/home/AD/h5li/.local/lib/python3.5/site-packages/h5py/__init__.py:34: FutureWarning: Conversion of the second argument of issubdtype from `float` to `np.floating` is deprecated. In future, it will be treated as `np.float64 == np.dtype(float).type`.\n",
      "  from ._conv import register_converters as _register_converters\n",
      "Using TensorFlow backend.\n"
     ]
    }
   ],
   "source": [
    "import numpy as np\n",
    "np.random.seed(6)\n",
    "from pybedtools import BedTool\n",
    "import pybedtools\n",
    "import pandas as pd\n",
    "import seaborn as sns\n",
    "\n",
    "import tensorflow as tf\n",
    "from keras.models import Sequential\n",
    "from keras.layers import Dense, Flatten, Dropout,BatchNormalization,Activation\n",
    "from keras.layers import Conv1D, MaxPooling1D,Conv2D,MaxPooling2D,GlobalAveragePooling1D, AveragePooling1D\n",
    "from keras.layers import Dropout\n",
    "from keras.optimizers import Adam,RMSprop\n",
    "from keras import regularizers as kr\n",
    "from keras import initializers\n",
    "from keras.callbacks import EarlyStopping\n",
    "from keras.utils import np_utils, to_categorical\n",
    "# custom R2-score metrics for keras backend\n",
    "from tensorflow.python.keras import backend as K\n",
    "import matplotlib.pyplot as plt\n",
    "\n",
    "import os\n",
    "from sklearn.metrics import r2_score\n",
    "from tensorflow.python.keras.callbacks import EarlyStopping"
   ]
  },
  {
   "cell_type": "code",
   "execution_count": 2,
   "metadata": {},
   "outputs": [],
   "source": [
    "#parameter setting...\n",
    "cell_type = 5\n",
    "apply_sample_weight = False\n",
    "target_length = 600\n",
    "filter_length = 6"
   ]
  },
  {
   "cell_type": "code",
   "execution_count": 3,
   "metadata": {},
   "outputs": [],
   "source": [
    "def R2_score(y_true, y_pred):\n",
    "    SS_res =  K.sum(K.square( y_true-y_pred )) \n",
    "    SS_tot = K.sum(K.square( y_true - K.mean(y_true) ) ) \n",
    "    return ( 1 - SS_res/(SS_tot) )"
   ]
  },
  {
   "cell_type": "code",
   "execution_count": 4,
   "metadata": {},
   "outputs": [],
   "source": [
    "def read_data(bed_file,fasta_file):\n",
    "    #apply bedtools to read fasta files '/home/h5li/methylation_DMR/data/DMR_coordinates_extended_b500.bed'\n",
    "    a = pybedtools.example_bedtool( bed_file )\n",
    "    # '/home/h5li/methylation_DMR/data/mm10.fasta'\n",
    "    fasta = pybedtools.example_filename( fasta_file )\n",
    "    a = a.sequence(fi=fasta)\n",
    "    seq = open(a.seqfn).read()\n",
    "    #read and extract DNA sequences \n",
    "    DNA_seq_list = seq.split('\\n')\n",
    "    DNA_seq_list.pop()\n",
    "    DNA_seq = []\n",
    "    m = 10000\n",
    "    n = 0\n",
    "    for index in range(len(DNA_seq_list)//2):\n",
    "        DNA_seq.append(DNA_seq_list[index*2 + 1].upper())\n",
    "        if len(DNA_seq_list[index*2 + 1]) < m:\n",
    "            m = len(DNA_seq_list[index*2 + 1])\n",
    "        if len(DNA_seq_list[index*2 + 1]) > n:\n",
    "            n = len(DNA_seq_list[index*2 + 1])\n",
    "    print('The shortest length of DNA sequence is {0}bp'.format(m))\n",
    "    print('The longest length of DNA sequence is {0}bp'.format(n))\n",
    "    print('Total Number of input sequence is {0}'.format(len(DNA_seq)))\n",
    "    return DNA_seq,n,m"
   ]
  },
  {
   "cell_type": "code",
   "execution_count": 5,
   "metadata": {},
   "outputs": [],
   "source": [
    "def extend_Data(targetLength,dnaSeqList):\n",
    "    newDNAList = []\n",
    "    for seq in dnaSeqList:\n",
    "        if len(seq) < targetLength:\n",
    "            diff = targetLength - len(seq)\n",
    "            if diff % 2 == 0:\n",
    "                seq += 'N' * (diff//2)\n",
    "                seq = 'N' * (diff//2) + seq\n",
    "            if diff % 2 ==1:\n",
    "                seq += 'N' *(diff//2)\n",
    "                seq = 'N' * (diff//2 + 1) + seq\n",
    "        newDNAList.append(seq)\n",
    "    return newDNAList\n",
    "\n",
    "def chop_Data(targetLength,dnaSeqList):\n",
    "    #chop DNA sequences to have same length\n",
    "    Uni_DNA = []\n",
    "    for s in dnaSeqList:\n",
    "        if len(s) < targetLength:\n",
    "            print('Exceptions!')\n",
    "        diff = len(s) - targetLength\n",
    "        if diff % 2 == 0:\n",
    "            side = diff // 2\n",
    "            Uni_DNA.append(s[side:-side])\n",
    "        else:\n",
    "            right = diff // 2\n",
    "            left = diff// 2 + 1\n",
    "            Uni_DNA.append(s[left:-right])\n",
    "    return Uni_DNA"
   ]
  },
  {
   "cell_type": "code",
   "execution_count": 6,
   "metadata": {},
   "outputs": [],
   "source": [
    "#below are helper methods\n",
    "def data_aug(seq):\n",
    "    new_seq = []\n",
    "    for i in range(len(seq)):\n",
    "        l = seq[i]\n",
    "        if l == 'A':\n",
    "            new_seq.append( 'T' )\n",
    "        elif l == 'C':\n",
    "            new_seq.append( 'G' )\n",
    "        elif l == 'G':\n",
    "            new_seq.append( 'C' )\n",
    "        elif l == 'T':\n",
    "            new_seq.append( 'A' )\n",
    "        else:\n",
    "            new_seq.append( 'N' )\n",
    "    return new_seq\n",
    "\n",
    "def data_rev(seq):\n",
    "    new_seq = [None] * len(seq)\n",
    "    for i in range(len(seq)):\n",
    "        new_seq[-i] = seq[i]\n",
    "    return new_seq      \n",
    "\n",
    "def mse_keras(y_true, y_pred):\n",
    "    SS_res =  K.sum( K.square( y_true - y_pred ) ) \n",
    "    SS_tot = K.sum( K.square( y_true - K.mean( y_true ) ) ) \n",
    "    return ( SS_res/SS_tot)\n",
    "\n",
    "def R2_score(y_true, y_pred):\n",
    "    SS_res =  K.sum(K.square( y_true-y_pred )) \n",
    "    SS_tot = K.sum(K.square( y_true - K.mean(y_true) ) ) \n",
    "    return ( 1 - SS_res/(SS_tot) )"
   ]
  },
  {
   "cell_type": "code",
   "execution_count": 7,
   "metadata": {},
   "outputs": [],
   "source": [
    "def preprocess_data(DNA_seq):\n",
    "\n",
    "    train_size = len(DNA_seq)\n",
    "\n",
    "    #One hot encoding \n",
    "    DNA = []\n",
    "    for u in DNA_seq:\n",
    "        sequence_vector = []\n",
    "        for c in u:\n",
    "            if c == 'A':\n",
    "                sequence_vector.append([1,0,0,0])\n",
    "            elif c == 'C':\n",
    "                sequence_vector.append([0,1,0,0])\n",
    "            elif c == 'G':\n",
    "                sequence_vector.append([0,0,1,0])\n",
    "            else:\n",
    "                sequence_vector.append([0,0,0,1])\n",
    "        #print(np.array(sequence_vector).shape)\n",
    "        DNA.append(np.array(sequence_vector))\n",
    "    DNA = np.array(DNA)\n",
    "    print(DNA.shape)\n",
    "    return DNA"
   ]
  },
  {
   "cell_type": "code",
   "execution_count": 8,
   "metadata": {},
   "outputs": [],
   "source": [
    "def Formalize_Data(DNA_seq, methylation_file, cell_type):\n",
    "    #Read Methylation level\n",
    "    labels = list(pd.read_csv(methylation_file,header = None)[cell_type])\n",
    "    train_labels = np.array(labels)\n",
    "    training_seq_shape = (len(DNA_seq),len(DNA_seq[0]),4)\n",
    "    train_data = DNA_seq.reshape(training_seq_shape)\n",
    "    return train_data,train_labels"
   ]
  },
  {
   "cell_type": "code",
   "execution_count": 9,
   "metadata": {},
   "outputs": [
    {
     "name": "stdout",
     "output_type": "stream",
     "text": [
      "The shortest length of DNA sequence is 1407bp\n",
      "The longest length of DNA sequence is 5829bp\n",
      "Total Number of input sequence is 58959\n"
     ]
    }
   ],
   "source": [
    "bed_file_path = '/home/h5li/methylation_DMR/data/DMR_coordinates_extended_b500.bed'\n",
    "fasta_file_path = '/home/h5li/methylation_DMR/data/mm10.fasta'\n",
    "methylation_file_path = '../data/Mouse_DMRs_methylation_level.csv'\n",
    "total_counts_file_path ='../data/Mouse_DMRs_counts_total.csv'\n",
    "methy_counts_file_path = '../data/Mouse_DMRs_counts_methylated.csv'\n",
    "    \n",
    "DNA_seq,long_length,short_length = read_data(bed_file_path, fasta_file_path)   "
   ]
  },
  {
   "cell_type": "code",
   "execution_count": 10,
   "metadata": {},
   "outputs": [],
   "source": [
    "DNA_seq = chop_Data(target_length,DNA_seq)"
   ]
  },
  {
   "cell_type": "code",
   "execution_count": 11,
   "metadata": {},
   "outputs": [
    {
     "name": "stdout",
     "output_type": "stream",
     "text": [
      "(58959, 600, 4)\n"
     ]
    }
   ],
   "source": [
    "DNA = preprocess_data(DNA_seq)\n",
    "train_data,train_labels = Formalize_Data(DNA, methylation_file_path, cell_type)"
   ]
  },
  {
   "cell_type": "code",
   "execution_count": 15,
   "metadata": {},
   "outputs": [
    {
     "name": "stdout",
     "output_type": "stream",
     "text": [
      "_________________________________________________________________\n",
      "Layer (type)                 Output Shape              Param #   \n",
      "=================================================================\n",
      "conv1d_3 (Conv1D)            (None, 600, 30)           750       \n",
      "_________________________________________________________________\n",
      "global_average_pooling1d_2 ( (None, 30)                0         \n",
      "_________________________________________________________________\n",
      "dense_2 (Dense)              (None, 1)                 31        \n",
      "=================================================================\n",
      "Total params: 781\n",
      "Trainable params: 781\n",
      "Non-trainable params: 0\n",
      "_________________________________________________________________\n"
     ]
    }
   ],
   "source": [
    "init = initializers.RandomNormal(mean=0, stddev=0.5, seed=None)\n",
    "k_r = kr.l2(1e-6)\n",
    "nfilt = 1\n",
    "filtlength = 6\n",
    "num_filters = 30\n",
    "maxPsize = 100\n",
    "seqlen = len(DNA_seq[0]);\n",
    "model = Sequential()\n",
    "model.add(Conv1D(filters=num_filters, kernel_size=filtlength,kernel_initializer = init,padding = 'same',\n",
    "                 input_shape=(seqlen,4), activation='relu'))\n",
    "#model.add(MaxPooling1D(3))\n",
    "#model.add(Conv1D(filters=30, kernel_size = 3,kernel_initializer = init, padding = 'same',activation='relu'))\n",
    "model.add(GlobalAveragePooling1D())\n",
    "#model.add(Flatten())\n",
    "model.add(Dense(1, kernel_initializer= init ,activation='sigmoid'))\n",
    "model.compile(optimizer= Adam(lr = 0.001),\n",
    "              loss='mean_squared_error',\n",
    "              metrics=['accuracy',R2_score])\n",
    "model.summary()"
   ]
  },
  {
   "cell_type": "code",
   "execution_count": 16,
   "metadata": {},
   "outputs": [
    {
     "name": "stdout",
     "output_type": "stream",
     "text": [
      "Train on 44219 samples, validate on 14740 samples\n",
      "Epoch 1/1000\n",
      " - 8s - loss: 0.0728 - acc: 0.0289 - R2_score: -6.1478e-03 - val_loss: 0.0719 - val_acc: 0.0332 - val_R2_score: -2.3822e-02\n",
      "Epoch 2/1000\n",
      " - 7s - loss: 0.0716 - acc: 0.0289 - R2_score: 0.0097 - val_loss: 0.0710 - val_acc: 0.0332 - val_R2_score: -1.6441e-02\n",
      "Epoch 3/1000\n",
      " - 7s - loss: 0.0710 - acc: 0.0289 - R2_score: 0.0195 - val_loss: 0.0703 - val_acc: 0.0332 - val_R2_score: -3.9818e-03\n",
      "Epoch 4/1000\n",
      " - 8s - loss: 0.0706 - acc: 0.0289 - R2_score: 0.0254 - val_loss: 0.0699 - val_acc: 0.0332 - val_R2_score: 0.0027\n",
      "Epoch 5/1000\n",
      " - 7s - loss: 0.0700 - acc: 0.0289 - R2_score: 0.0322 - val_loss: 0.0694 - val_acc: 0.0332 - val_R2_score: 0.0090\n",
      "Epoch 6/1000\n",
      " - 7s - loss: 0.0697 - acc: 0.0289 - R2_score: 0.0369 - val_loss: 0.0692 - val_acc: 0.0332 - val_R2_score: 0.0142\n",
      "Epoch 7/1000\n",
      " - 7s - loss: 0.0692 - acc: 0.0289 - R2_score: 0.0448 - val_loss: 0.0690 - val_acc: 0.0332 - val_R2_score: 0.0184\n",
      "Epoch 8/1000\n",
      " - 7s - loss: 0.0688 - acc: 0.0289 - R2_score: 0.0500 - val_loss: 0.0683 - val_acc: 0.0332 - val_R2_score: 0.0265\n",
      "Epoch 9/1000\n",
      " - 7s - loss: 0.0684 - acc: 0.0289 - R2_score: 0.0543 - val_loss: 0.0679 - val_acc: 0.0332 - val_R2_score: 0.0282\n",
      "Epoch 10/1000\n",
      " - 7s - loss: 0.0680 - acc: 0.0289 - R2_score: 0.0590 - val_loss: 0.0679 - val_acc: 0.0332 - val_R2_score: 0.0335\n",
      "Epoch 11/1000\n",
      " - 7s - loss: 0.0676 - acc: 0.0289 - R2_score: 0.0662 - val_loss: 0.0673 - val_acc: 0.0332 - val_R2_score: 0.0420\n",
      "Epoch 12/1000\n",
      " - 7s - loss: 0.0672 - acc: 0.0289 - R2_score: 0.0705 - val_loss: 0.0675 - val_acc: 0.0331 - val_R2_score: 0.0302\n",
      "Epoch 13/1000\n",
      " - 7s - loss: 0.0669 - acc: 0.0289 - R2_score: 0.0757 - val_loss: 0.0676 - val_acc: 0.0331 - val_R2_score: 0.0276\n",
      "Epoch 14/1000\n",
      " - 7s - loss: 0.0665 - acc: 0.0289 - R2_score: 0.0802 - val_loss: 0.0661 - val_acc: 0.0331 - val_R2_score: 0.0577\n",
      "Epoch 15/1000\n",
      " - 8s - loss: 0.0662 - acc: 0.0289 - R2_score: 0.0853 - val_loss: 0.0657 - val_acc: 0.0331 - val_R2_score: 0.0607\n",
      "Epoch 16/1000\n",
      " - 7s - loss: 0.0659 - acc: 0.0289 - R2_score: 0.0888 - val_loss: 0.0655 - val_acc: 0.0331 - val_R2_score: 0.0629\n",
      "Epoch 17/1000\n",
      " - 8s - loss: 0.0656 - acc: 0.0289 - R2_score: 0.0904 - val_loss: 0.0652 - val_acc: 0.0331 - val_R2_score: 0.0666\n",
      "Epoch 18/1000\n",
      " - 7s - loss: 0.0654 - acc: 0.0289 - R2_score: 0.0966 - val_loss: 0.0649 - val_acc: 0.0331 - val_R2_score: 0.0727\n",
      "Epoch 19/1000\n",
      " - 7s - loss: 0.0650 - acc: 0.0289 - R2_score: 0.1010 - val_loss: 0.0647 - val_acc: 0.0331 - val_R2_score: 0.0775\n",
      "Epoch 20/1000\n",
      " - 7s - loss: 0.0648 - acc: 0.0290 - R2_score: 0.1049 - val_loss: 0.0644 - val_acc: 0.0331 - val_R2_score: 0.0814\n",
      "Epoch 21/1000\n",
      " - 7s - loss: 0.0645 - acc: 0.0289 - R2_score: 0.1079 - val_loss: 0.0642 - val_acc: 0.0332 - val_R2_score: 0.0829\n",
      "Epoch 22/1000\n",
      " - 7s - loss: 0.0643 - acc: 0.0290 - R2_score: 0.1101 - val_loss: 0.0640 - val_acc: 0.0332 - val_R2_score: 0.0874\n",
      "Epoch 23/1000\n",
      " - 8s - loss: 0.0640 - acc: 0.0289 - R2_score: 0.1143 - val_loss: 0.0637 - val_acc: 0.0332 - val_R2_score: 0.0900\n",
      "Epoch 24/1000\n",
      " - 8s - loss: 0.0638 - acc: 0.0290 - R2_score: 0.1173 - val_loss: 0.0639 - val_acc: 0.0332 - val_R2_score: 0.0911\n",
      "Epoch 25/1000\n",
      " - 7s - loss: 0.0636 - acc: 0.0289 - R2_score: 0.1205 - val_loss: 0.0635 - val_acc: 0.0332 - val_R2_score: 0.0910\n",
      "Epoch 26/1000\n",
      " - 7s - loss: 0.0634 - acc: 0.0290 - R2_score: 0.1240 - val_loss: 0.0645 - val_acc: 0.0331 - val_R2_score: 0.0723\n",
      "Epoch 27/1000\n",
      " - 7s - loss: 0.0633 - acc: 0.0290 - R2_score: 0.1244 - val_loss: 0.0630 - val_acc: 0.0332 - val_R2_score: 0.1003\n",
      "Epoch 28/1000\n",
      " - 7s - loss: 0.0630 - acc: 0.0290 - R2_score: 0.1273 - val_loss: 0.0628 - val_acc: 0.0332 - val_R2_score: 0.1036\n",
      "Epoch 29/1000\n",
      " - 7s - loss: 0.0629 - acc: 0.0290 - R2_score: 0.1313 - val_loss: 0.0630 - val_acc: 0.0332 - val_R2_score: 0.1030\n",
      "Epoch 30/1000\n",
      " - 8s - loss: 0.0628 - acc: 0.0291 - R2_score: 0.1300 - val_loss: 0.0630 - val_acc: 0.0332 - val_R2_score: 0.1035\n",
      "Epoch 31/1000\n",
      " - 7s - loss: 0.0625 - acc: 0.0289 - R2_score: 0.1350 - val_loss: 0.0624 - val_acc: 0.0333 - val_R2_score: 0.1077\n",
      "Epoch 32/1000\n",
      " - 7s - loss: 0.0623 - acc: 0.0290 - R2_score: 0.1379 - val_loss: 0.0626 - val_acc: 0.0332 - val_R2_score: 0.1091\n",
      "Epoch 33/1000\n",
      " - 7s - loss: 0.0623 - acc: 0.0291 - R2_score: 0.1383 - val_loss: 0.0621 - val_acc: 0.0332 - val_R2_score: 0.1139\n",
      "Epoch 34/1000\n",
      " - 6s - loss: 0.0622 - acc: 0.0291 - R2_score: 0.1412 - val_loss: 0.0623 - val_acc: 0.0330 - val_R2_score: 0.1063\n",
      "Epoch 35/1000\n",
      " - 7s - loss: 0.0620 - acc: 0.0290 - R2_score: 0.1424 - val_loss: 0.0629 - val_acc: 0.0332 - val_R2_score: 0.1064\n",
      "Epoch 36/1000\n",
      " - 7s - loss: 0.0619 - acc: 0.0291 - R2_score: 0.1426 - val_loss: 0.0621 - val_acc: 0.0331 - val_R2_score: 0.1105\n",
      "Epoch 37/1000\n",
      " - 7s - loss: 0.0617 - acc: 0.0290 - R2_score: 0.1476 - val_loss: 0.0623 - val_acc: 0.0332 - val_R2_score: 0.1141\n",
      "Epoch 38/1000\n",
      " - 7s - loss: 0.0617 - acc: 0.0291 - R2_score: 0.1473 - val_loss: 0.0636 - val_acc: 0.0332 - val_R2_score: 0.0830\n",
      "Epoch 39/1000\n",
      " - 7s - loss: 0.0617 - acc: 0.0292 - R2_score: 0.1466 - val_loss: 0.0615 - val_acc: 0.0333 - val_R2_score: 0.1229\n",
      "Epoch 40/1000\n",
      " - 7s - loss: 0.0614 - acc: 0.0291 - R2_score: 0.1500 - val_loss: 0.0613 - val_acc: 0.0332 - val_R2_score: 0.1244\n",
      "Epoch 41/1000\n",
      " - 8s - loss: 0.0613 - acc: 0.0290 - R2_score: 0.1513 - val_loss: 0.0616 - val_acc: 0.0333 - val_R2_score: 0.1230\n",
      "Epoch 42/1000\n",
      " - 7s - loss: 0.0613 - acc: 0.0291 - R2_score: 0.1514 - val_loss: 0.0623 - val_acc: 0.0332 - val_R2_score: 0.1151\n",
      "Epoch 43/1000\n",
      " - 7s - loss: 0.0611 - acc: 0.0292 - R2_score: 0.1534 - val_loss: 0.0616 - val_acc: 0.0331 - val_R2_score: 0.1153\n",
      "Epoch 44/1000\n",
      " - 7s - loss: 0.0610 - acc: 0.0291 - R2_score: 0.1555 - val_loss: 0.0610 - val_acc: 0.0333 - val_R2_score: 0.1273\n",
      "Epoch 45/1000\n",
      " - 7s - loss: 0.0609 - acc: 0.0292 - R2_score: 0.1576 - val_loss: 0.0621 - val_acc: 0.0332 - val_R2_score: 0.1177\n",
      "Epoch 46/1000\n",
      " - 7s - loss: 0.0609 - acc: 0.0291 - R2_score: 0.1580 - val_loss: 0.0610 - val_acc: 0.0332 - val_R2_score: 0.1273\n",
      "Epoch 47/1000\n",
      " - 6s - loss: 0.0608 - acc: 0.0292 - R2_score: 0.1588 - val_loss: 0.0608 - val_acc: 0.0332 - val_R2_score: 0.1326\n",
      "Epoch 48/1000\n",
      " - 7s - loss: 0.0607 - acc: 0.0291 - R2_score: 0.1594 - val_loss: 0.0607 - val_acc: 0.0332 - val_R2_score: 0.1338\n",
      "Epoch 49/1000\n",
      " - 8s - loss: 0.0606 - acc: 0.0291 - R2_score: 0.1619 - val_loss: 0.0606 - val_acc: 0.0334 - val_R2_score: 0.1333\n",
      "Epoch 50/1000\n",
      " - 7s - loss: 0.0605 - acc: 0.0292 - R2_score: 0.1633 - val_loss: 0.0610 - val_acc: 0.0333 - val_R2_score: 0.1251\n",
      "Epoch 51/1000\n",
      " - 7s - loss: 0.0604 - acc: 0.0292 - R2_score: 0.1640 - val_loss: 0.0606 - val_acc: 0.0334 - val_R2_score: 0.1323\n",
      "Epoch 52/1000\n",
      " - 7s - loss: 0.0604 - acc: 0.0291 - R2_score: 0.1648 - val_loss: 0.0607 - val_acc: 0.0332 - val_R2_score: 0.1352\n",
      "Epoch 53/1000\n",
      " - 7s - loss: 0.0603 - acc: 0.0292 - R2_score: 0.1651 - val_loss: 0.0606 - val_acc: 0.0332 - val_R2_score: 0.1368\n",
      "Epoch 54/1000\n",
      " - 7s - loss: 0.0604 - acc: 0.0292 - R2_score: 0.1630 - val_loss: 0.0603 - val_acc: 0.0334 - val_R2_score: 0.1387\n",
      "Epoch 55/1000\n",
      " - 7s - loss: 0.0602 - acc: 0.0293 - R2_score: 0.1653 - val_loss: 0.0604 - val_acc: 0.0334 - val_R2_score: 0.1346\n",
      "Epoch 56/1000\n",
      " - 7s - loss: 0.0601 - acc: 0.0292 - R2_score: 0.1686 - val_loss: 0.0602 - val_acc: 0.0334 - val_R2_score: 0.1382\n",
      "Epoch 57/1000\n",
      " - 7s - loss: 0.0601 - acc: 0.0293 - R2_score: 0.1688 - val_loss: 0.0606 - val_acc: 0.0332 - val_R2_score: 0.1311\n",
      "Epoch 58/1000\n",
      " - 7s - loss: 0.0600 - acc: 0.0292 - R2_score: 0.1694 - val_loss: 0.0601 - val_acc: 0.0334 - val_R2_score: 0.1419\n",
      "Epoch 59/1000\n",
      " - 7s - loss: 0.0599 - acc: 0.0293 - R2_score: 0.1734 - val_loss: 0.0601 - val_acc: 0.0335 - val_R2_score: 0.1411\n",
      "Epoch 60/1000\n",
      " - 7s - loss: 0.0599 - acc: 0.0292 - R2_score: 0.1710 - val_loss: 0.0600 - val_acc: 0.0335 - val_R2_score: 0.1430\n",
      "Epoch 61/1000\n",
      " - 7s - loss: 0.0599 - acc: 0.0292 - R2_score: 0.1701 - val_loss: 0.0605 - val_acc: 0.0333 - val_R2_score: 0.1393\n",
      "Epoch 62/1000\n",
      " - 7s - loss: 0.0597 - acc: 0.0293 - R2_score: 0.1743 - val_loss: 0.0599 - val_acc: 0.0336 - val_R2_score: 0.1444\n",
      "Epoch 63/1000\n",
      " - 8s - loss: 0.0598 - acc: 0.0292 - R2_score: 0.1716 - val_loss: 0.0605 - val_acc: 0.0334 - val_R2_score: 0.1394\n",
      "Epoch 64/1000\n",
      " - 7s - loss: 0.0597 - acc: 0.0293 - R2_score: 0.1730 - val_loss: 0.0602 - val_acc: 0.0333 - val_R2_score: 0.1359\n"
     ]
    },
    {
     "name": "stdout",
     "output_type": "stream",
     "text": [
      "Epoch 65/1000\n",
      " - 7s - loss: 0.0596 - acc: 0.0292 - R2_score: 0.1753 - val_loss: 0.0598 - val_acc: 0.0335 - val_R2_score: 0.1457\n",
      "Epoch 66/1000\n",
      " - 8s - loss: 0.0596 - acc: 0.0292 - R2_score: 0.1750 - val_loss: 0.0597 - val_acc: 0.0335 - val_R2_score: 0.1455\n",
      "Epoch 67/1000\n",
      " - 7s - loss: 0.0597 - acc: 0.0293 - R2_score: 0.1748 - val_loss: 0.0599 - val_acc: 0.0333 - val_R2_score: 0.1421\n",
      "Epoch 68/1000\n",
      " - 7s - loss: 0.0596 - acc: 0.0292 - R2_score: 0.1740 - val_loss: 0.0601 - val_acc: 0.0333 - val_R2_score: 0.1375\n",
      "Epoch 69/1000\n",
      " - 8s - loss: 0.0595 - acc: 0.0292 - R2_score: 0.1772 - val_loss: 0.0596 - val_acc: 0.0335 - val_R2_score: 0.1469\n",
      "Epoch 70/1000\n",
      " - 8s - loss: 0.0594 - acc: 0.0293 - R2_score: 0.1769 - val_loss: 0.0597 - val_acc: 0.0336 - val_R2_score: 0.1483\n",
      "Epoch 71/1000\n",
      " - 7s - loss: 0.0594 - acc: 0.0292 - R2_score: 0.1769 - val_loss: 0.0597 - val_acc: 0.0333 - val_R2_score: 0.1443\n",
      "Epoch 72/1000\n",
      " - 7s - loss: 0.0594 - acc: 0.0293 - R2_score: 0.1779 - val_loss: 0.0599 - val_acc: 0.0335 - val_R2_score: 0.1467\n",
      "Epoch 73/1000\n",
      " - 7s - loss: 0.0593 - acc: 0.0293 - R2_score: 0.1803 - val_loss: 0.0597 - val_acc: 0.0336 - val_R2_score: 0.1492\n",
      "Epoch 74/1000\n",
      " - 8s - loss: 0.0593 - acc: 0.0293 - R2_score: 0.1788 - val_loss: 0.0595 - val_acc: 0.0335 - val_R2_score: 0.1503\n",
      "Epoch 75/1000\n",
      " - 7s - loss: 0.0592 - acc: 0.0292 - R2_score: 0.1799 - val_loss: 0.0597 - val_acc: 0.0334 - val_R2_score: 0.1440\n",
      "Epoch 76/1000\n",
      " - 7s - loss: 0.0592 - acc: 0.0293 - R2_score: 0.1805 - val_loss: 0.0594 - val_acc: 0.0334 - val_R2_score: 0.1509\n",
      "Epoch 77/1000\n",
      " - 8s - loss: 0.0592 - acc: 0.0293 - R2_score: 0.1814 - val_loss: 0.0594 - val_acc: 0.0334 - val_R2_score: 0.1503\n",
      "Epoch 78/1000\n",
      " - 7s - loss: 0.0593 - acc: 0.0293 - R2_score: 0.1788 - val_loss: 0.0607 - val_acc: 0.0334 - val_R2_score: 0.1254\n",
      "Epoch 79/1000\n",
      " - 7s - loss: 0.0592 - acc: 0.0294 - R2_score: 0.1805 - val_loss: 0.0595 - val_acc: 0.0334 - val_R2_score: 0.1474\n",
      "Epoch 80/1000\n",
      " - 8s - loss: 0.0591 - acc: 0.0292 - R2_score: 0.1799 - val_loss: 0.0593 - val_acc: 0.0334 - val_R2_score: 0.1522\n",
      "Epoch 81/1000\n",
      " - 8s - loss: 0.0592 - acc: 0.0293 - R2_score: 0.1816 - val_loss: 0.0593 - val_acc: 0.0335 - val_R2_score: 0.1532\n",
      "Epoch 82/1000\n",
      " - 8s - loss: 0.0590 - acc: 0.0293 - R2_score: 0.1831 - val_loss: 0.0593 - val_acc: 0.0334 - val_R2_score: 0.1517\n",
      "Epoch 83/1000\n",
      " - 7s - loss: 0.0589 - acc: 0.0293 - R2_score: 0.1833 - val_loss: 0.0593 - val_acc: 0.0334 - val_R2_score: 0.1507\n",
      "Epoch 84/1000\n",
      " - 8s - loss: 0.0588 - acc: 0.0293 - R2_score: 0.1844 - val_loss: 0.0596 - val_acc: 0.0336 - val_R2_score: 0.1513\n",
      "Epoch 85/1000\n",
      " - 7s - loss: 0.0590 - acc: 0.0293 - R2_score: 0.1847 - val_loss: 0.0596 - val_acc: 0.0336 - val_R2_score: 0.1515\n",
      "Epoch 86/1000\n",
      " - 8s - loss: 0.0589 - acc: 0.0294 - R2_score: 0.1851 - val_loss: 0.0591 - val_acc: 0.0334 - val_R2_score: 0.1549\n",
      "Epoch 87/1000\n",
      " - 7s - loss: 0.0588 - acc: 0.0294 - R2_score: 0.1858 - val_loss: 0.0595 - val_acc: 0.0334 - val_R2_score: 0.1467\n",
      "Epoch 88/1000\n",
      " - 7s - loss: 0.0589 - acc: 0.0293 - R2_score: 0.1842 - val_loss: 0.0593 - val_acc: 0.0336 - val_R2_score: 0.1542\n",
      "Epoch 89/1000\n",
      " - 7s - loss: 0.0588 - acc: 0.0294 - R2_score: 0.1856 - val_loss: 0.0591 - val_acc: 0.0335 - val_R2_score: 0.1555\n",
      "Epoch 90/1000\n",
      " - 8s - loss: 0.0588 - acc: 0.0293 - R2_score: 0.1862 - val_loss: 0.0592 - val_acc: 0.0336 - val_R2_score: 0.1553\n",
      "Epoch 91/1000\n",
      " - 8s - loss: 0.0587 - acc: 0.0294 - R2_score: 0.1884 - val_loss: 0.0591 - val_acc: 0.0335 - val_R2_score: 0.1570\n",
      "Epoch 92/1000\n",
      " - 7s - loss: 0.0587 - acc: 0.0294 - R2_score: 0.1884 - val_loss: 0.0593 - val_acc: 0.0336 - val_R2_score: 0.1549\n",
      "Epoch 93/1000\n",
      " - 7s - loss: 0.0587 - acc: 0.0294 - R2_score: 0.1875 - val_loss: 0.0590 - val_acc: 0.0334 - val_R2_score: 0.1559\n",
      "Epoch 94/1000\n",
      " - 7s - loss: 0.0588 - acc: 0.0294 - R2_score: 0.1854 - val_loss: 0.0594 - val_acc: 0.0333 - val_R2_score: 0.1479\n",
      "Epoch 95/1000\n",
      " - 7s - loss: 0.0586 - acc: 0.0293 - R2_score: 0.1884 - val_loss: 0.0589 - val_acc: 0.0335 - val_R2_score: 0.1584\n",
      "Epoch 96/1000\n",
      " - 7s - loss: 0.0586 - acc: 0.0295 - R2_score: 0.1876 - val_loss: 0.0589 - val_acc: 0.0335 - val_R2_score: 0.1577\n",
      "Epoch 97/1000\n",
      " - 6s - loss: 0.0586 - acc: 0.0294 - R2_score: 0.1902 - val_loss: 0.0589 - val_acc: 0.0335 - val_R2_score: 0.1588\n",
      "Epoch 98/1000\n",
      " - 7s - loss: 0.0585 - acc: 0.0293 - R2_score: 0.1893 - val_loss: 0.0591 - val_acc: 0.0336 - val_R2_score: 0.1579\n",
      "Epoch 99/1000\n",
      " - 7s - loss: 0.0586 - acc: 0.0293 - R2_score: 0.1886 - val_loss: 0.0588 - val_acc: 0.0336 - val_R2_score: 0.1598\n",
      "Epoch 100/1000\n",
      " - 7s - loss: 0.0585 - acc: 0.0294 - R2_score: 0.1905 - val_loss: 0.0589 - val_acc: 0.0336 - val_R2_score: 0.1597\n",
      "Epoch 101/1000\n",
      " - 7s - loss: 0.0584 - acc: 0.0293 - R2_score: 0.1912 - val_loss: 0.0589 - val_acc: 0.0334 - val_R2_score: 0.1551\n",
      "Epoch 102/1000\n",
      " - 7s - loss: 0.0585 - acc: 0.0292 - R2_score: 0.1896 - val_loss: 0.0589 - val_acc: 0.0336 - val_R2_score: 0.1597\n",
      "Epoch 103/1000\n",
      " - 7s - loss: 0.0584 - acc: 0.0293 - R2_score: 0.1913 - val_loss: 0.0587 - val_acc: 0.0334 - val_R2_score: 0.1590\n",
      "Epoch 104/1000\n",
      " - 7s - loss: 0.0584 - acc: 0.0293 - R2_score: 0.1912 - val_loss: 0.0588 - val_acc: 0.0335 - val_R2_score: 0.1609\n",
      "Epoch 105/1000\n",
      " - 7s - loss: 0.0584 - acc: 0.0293 - R2_score: 0.1917 - val_loss: 0.0590 - val_acc: 0.0334 - val_R2_score: 0.1535\n",
      "Epoch 106/1000\n",
      " - 7s - loss: 0.0583 - acc: 0.0292 - R2_score: 0.1915 - val_loss: 0.0587 - val_acc: 0.0335 - val_R2_score: 0.1606\n",
      "Epoch 107/1000\n",
      " - 7s - loss: 0.0584 - acc: 0.0293 - R2_score: 0.1919 - val_loss: 0.0597 - val_acc: 0.0336 - val_R2_score: 0.1514\n",
      "Epoch 108/1000\n",
      " - 6s - loss: 0.0583 - acc: 0.0294 - R2_score: 0.1907 - val_loss: 0.0587 - val_acc: 0.0334 - val_R2_score: 0.1588\n",
      "Epoch 109/1000\n",
      " - 7s - loss: 0.0583 - acc: 0.0293 - R2_score: 0.1935 - val_loss: 0.0586 - val_acc: 0.0336 - val_R2_score: 0.1629\n",
      "Epoch 110/1000\n",
      " - 7s - loss: 0.0582 - acc: 0.0293 - R2_score: 0.1941 - val_loss: 0.0587 - val_acc: 0.0336 - val_R2_score: 0.1630\n",
      "Epoch 111/1000\n",
      " - 7s - loss: 0.0582 - acc: 0.0294 - R2_score: 0.1929 - val_loss: 0.0586 - val_acc: 0.0334 - val_R2_score: 0.1611\n",
      "Epoch 112/1000\n",
      " - 8s - loss: 0.0582 - acc: 0.0292 - R2_score: 0.1943 - val_loss: 0.0586 - val_acc: 0.0336 - val_R2_score: 0.1637\n",
      "Epoch 113/1000\n",
      " - 7s - loss: 0.0582 - acc: 0.0292 - R2_score: 0.1933 - val_loss: 0.0593 - val_acc: 0.0336 - val_R2_score: 0.1566\n",
      "Epoch 114/1000\n",
      " - 8s - loss: 0.0582 - acc: 0.0292 - R2_score: 0.1938 - val_loss: 0.0586 - val_acc: 0.0334 - val_R2_score: 0.1610\n",
      "Epoch 115/1000\n",
      " - 7s - loss: 0.0581 - acc: 0.0293 - R2_score: 0.1956 - val_loss: 0.0587 - val_acc: 0.0334 - val_R2_score: 0.1575\n",
      "Epoch 116/1000\n",
      " - 7s - loss: 0.0581 - acc: 0.0294 - R2_score: 0.1954 - val_loss: 0.0586 - val_acc: 0.0334 - val_R2_score: 0.1593\n",
      "Epoch 117/1000\n",
      " - 7s - loss: 0.0582 - acc: 0.0294 - R2_score: 0.1951 - val_loss: 0.0589 - val_acc: 0.0336 - val_R2_score: 0.1535\n",
      "Epoch 118/1000\n",
      " - 7s - loss: 0.0581 - acc: 0.0293 - R2_score: 0.1952 - val_loss: 0.0585 - val_acc: 0.0334 - val_R2_score: 0.1609\n",
      "Epoch 119/1000\n",
      " - 8s - loss: 0.0580 - acc: 0.0293 - R2_score: 0.1976 - val_loss: 0.0584 - val_acc: 0.0335 - val_R2_score: 0.1635\n",
      "Epoch 120/1000\n",
      " - 7s - loss: 0.0580 - acc: 0.0294 - R2_score: 0.1955 - val_loss: 0.0590 - val_acc: 0.0336 - val_R2_score: 0.1604\n",
      "Epoch 121/1000\n",
      " - 7s - loss: 0.0580 - acc: 0.0293 - R2_score: 0.1971 - val_loss: 0.0587 - val_acc: 0.0336 - val_R2_score: 0.1631\n",
      "Epoch 122/1000\n",
      " - 7s - loss: 0.0580 - acc: 0.0294 - R2_score: 0.1969 - val_loss: 0.0583 - val_acc: 0.0337 - val_R2_score: 0.1667\n",
      "Epoch 123/1000\n",
      " - 8s - loss: 0.0580 - acc: 0.0292 - R2_score: 0.1969 - val_loss: 0.0591 - val_acc: 0.0336 - val_R2_score: 0.1596\n",
      "Epoch 124/1000\n",
      " - 7s - loss: 0.0581 - acc: 0.0295 - R2_score: 0.1951 - val_loss: 0.0583 - val_acc: 0.0336 - val_R2_score: 0.1666\n",
      "Epoch 125/1000\n",
      " - 7s - loss: 0.0578 - acc: 0.0292 - R2_score: 0.2003 - val_loss: 0.0582 - val_acc: 0.0337 - val_R2_score: 0.1677\n",
      "Epoch 126/1000\n",
      " - 8s - loss: 0.0580 - acc: 0.0294 - R2_score: 0.1965 - val_loss: 0.0589 - val_acc: 0.0336 - val_R2_score: 0.1619\n",
      "Epoch 127/1000\n",
      " - 8s - loss: 0.0579 - acc: 0.0293 - R2_score: 0.1984 - val_loss: 0.0582 - val_acc: 0.0336 - val_R2_score: 0.1669\n",
      "Epoch 128/1000\n",
      " - 8s - loss: 0.0579 - acc: 0.0293 - R2_score: 0.1980 - val_loss: 0.0582 - val_acc: 0.0336 - val_R2_score: 0.1668\n"
     ]
    },
    {
     "name": "stdout",
     "output_type": "stream",
     "text": [
      "Epoch 129/1000\n",
      " - 8s - loss: 0.0579 - acc: 0.0293 - R2_score: 0.1997 - val_loss: 0.0582 - val_acc: 0.0338 - val_R2_score: 0.1686\n",
      "Epoch 130/1000\n",
      " - 7s - loss: 0.0579 - acc: 0.0294 - R2_score: 0.1987 - val_loss: 0.0583 - val_acc: 0.0336 - val_R2_score: 0.1643\n",
      "Epoch 131/1000\n",
      " - 7s - loss: 0.0579 - acc: 0.0294 - R2_score: 0.1987 - val_loss: 0.0583 - val_acc: 0.0336 - val_R2_score: 0.1686\n",
      "Epoch 132/1000\n",
      " - 7s - loss: 0.0577 - acc: 0.0293 - R2_score: 0.1999 - val_loss: 0.0581 - val_acc: 0.0336 - val_R2_score: 0.1688\n",
      "Epoch 133/1000\n",
      " - 7s - loss: 0.0577 - acc: 0.0294 - R2_score: 0.2012 - val_loss: 0.0585 - val_acc: 0.0336 - val_R2_score: 0.1605\n",
      "Epoch 134/1000\n",
      " - 7s - loss: 0.0577 - acc: 0.0292 - R2_score: 0.2007 - val_loss: 0.0598 - val_acc: 0.0333 - val_R2_score: 0.1373\n",
      "Epoch 135/1000\n",
      " - 7s - loss: 0.0578 - acc: 0.0294 - R2_score: 0.1978 - val_loss: 0.0581 - val_acc: 0.0337 - val_R2_score: 0.1702\n",
      "Epoch 136/1000\n",
      " - 7s - loss: 0.0577 - acc: 0.0294 - R2_score: 0.2004 - val_loss: 0.0583 - val_acc: 0.0336 - val_R2_score: 0.1632\n",
      "Epoch 137/1000\n",
      " - 7s - loss: 0.0576 - acc: 0.0294 - R2_score: 0.2016 - val_loss: 0.0583 - val_acc: 0.0336 - val_R2_score: 0.1692\n",
      "Epoch 138/1000\n",
      " - 7s - loss: 0.0577 - acc: 0.0292 - R2_score: 0.2009 - val_loss: 0.0580 - val_acc: 0.0337 - val_R2_score: 0.1711\n",
      "Epoch 139/1000\n",
      " - 8s - loss: 0.0576 - acc: 0.0293 - R2_score: 0.2026 - val_loss: 0.0580 - val_acc: 0.0337 - val_R2_score: 0.1688\n",
      "Epoch 140/1000\n",
      " - 8s - loss: 0.0577 - acc: 0.0294 - R2_score: 0.1998 - val_loss: 0.0596 - val_acc: 0.0333 - val_R2_score: 0.1411\n",
      "Epoch 141/1000\n",
      " - 7s - loss: 0.0575 - acc: 0.0294 - R2_score: 0.2036 - val_loss: 0.0582 - val_acc: 0.0336 - val_R2_score: 0.1701\n",
      "Epoch 142/1000\n",
      " - 8s - loss: 0.0576 - acc: 0.0293 - R2_score: 0.2022 - val_loss: 0.0583 - val_acc: 0.0336 - val_R2_score: 0.1688\n",
      "Epoch 143/1000\n",
      " - 7s - loss: 0.0576 - acc: 0.0293 - R2_score: 0.2034 - val_loss: 0.0580 - val_acc: 0.0337 - val_R2_score: 0.1682\n",
      "Epoch 144/1000\n",
      " - 7s - loss: 0.0575 - acc: 0.0294 - R2_score: 0.2042 - val_loss: 0.0579 - val_acc: 0.0338 - val_R2_score: 0.1727\n",
      "Epoch 145/1000\n",
      " - 7s - loss: 0.0576 - acc: 0.0294 - R2_score: 0.2015 - val_loss: 0.0583 - val_acc: 0.0335 - val_R2_score: 0.1621\n",
      "Epoch 146/1000\n",
      " - 7s - loss: 0.0574 - acc: 0.0292 - R2_score: 0.2050 - val_loss: 0.0578 - val_acc: 0.0337 - val_R2_score: 0.1729\n",
      "Epoch 147/1000\n",
      " - 7s - loss: 0.0575 - acc: 0.0294 - R2_score: 0.2045 - val_loss: 0.0578 - val_acc: 0.0337 - val_R2_score: 0.1733\n",
      "Epoch 148/1000\n",
      " - 7s - loss: 0.0574 - acc: 0.0293 - R2_score: 0.2045 - val_loss: 0.0578 - val_acc: 0.0337 - val_R2_score: 0.1738\n",
      "Epoch 149/1000\n",
      " - 7s - loss: 0.0575 - acc: 0.0294 - R2_score: 0.2038 - val_loss: 0.0578 - val_acc: 0.0337 - val_R2_score: 0.1741\n",
      "Epoch 150/1000\n",
      " - 7s - loss: 0.0575 - acc: 0.0292 - R2_score: 0.2029 - val_loss: 0.0578 - val_acc: 0.0339 - val_R2_score: 0.1730\n",
      "Epoch 151/1000\n",
      " - 7s - loss: 0.0574 - acc: 0.0293 - R2_score: 0.2049 - val_loss: 0.0579 - val_acc: 0.0338 - val_R2_score: 0.1738\n",
      "Epoch 152/1000\n",
      " - 7s - loss: 0.0574 - acc: 0.0293 - R2_score: 0.2063 - val_loss: 0.0577 - val_acc: 0.0338 - val_R2_score: 0.1735\n",
      "Epoch 153/1000\n",
      " - 8s - loss: 0.0574 - acc: 0.0294 - R2_score: 0.2042 - val_loss: 0.0578 - val_acc: 0.0337 - val_R2_score: 0.1747\n",
      "Epoch 154/1000\n",
      " - 7s - loss: 0.0573 - acc: 0.0293 - R2_score: 0.2062 - val_loss: 0.0583 - val_acc: 0.0335 - val_R2_score: 0.1624\n",
      "Epoch 155/1000\n",
      " - 8s - loss: 0.0574 - acc: 0.0293 - R2_score: 0.2036 - val_loss: 0.0578 - val_acc: 0.0337 - val_R2_score: 0.1754\n",
      "Epoch 156/1000\n",
      " - 8s - loss: 0.0574 - acc: 0.0292 - R2_score: 0.2053 - val_loss: 0.0577 - val_acc: 0.0339 - val_R2_score: 0.1744\n",
      "Epoch 157/1000\n",
      " - 7s - loss: 0.0574 - acc: 0.0294 - R2_score: 0.2038 - val_loss: 0.0578 - val_acc: 0.0338 - val_R2_score: 0.1750\n",
      "Epoch 158/1000\n",
      " - 7s - loss: 0.0573 - acc: 0.0293 - R2_score: 0.2052 - val_loss: 0.0581 - val_acc: 0.0336 - val_R2_score: 0.1720\n",
      "Epoch 159/1000\n",
      " - 7s - loss: 0.0572 - acc: 0.0293 - R2_score: 0.2069 - val_loss: 0.0578 - val_acc: 0.0338 - val_R2_score: 0.1755\n",
      "Epoch 160/1000\n",
      " - 7s - loss: 0.0573 - acc: 0.0293 - R2_score: 0.2077 - val_loss: 0.0578 - val_acc: 0.0338 - val_R2_score: 0.1759\n",
      "Epoch 161/1000\n",
      " - 7s - loss: 0.0572 - acc: 0.0293 - R2_score: 0.2076 - val_loss: 0.0580 - val_acc: 0.0336 - val_R2_score: 0.1663\n",
      "Epoch 162/1000\n",
      " - 8s - loss: 0.0573 - acc: 0.0294 - R2_score: 0.2068 - val_loss: 0.0578 - val_acc: 0.0336 - val_R2_score: 0.1708\n",
      "Epoch 163/1000\n",
      " - 7s - loss: 0.0572 - acc: 0.0294 - R2_score: 0.2068 - val_loss: 0.0585 - val_acc: 0.0336 - val_R2_score: 0.1675\n",
      "Epoch 164/1000\n",
      " - 7s - loss: 0.0571 - acc: 0.0293 - R2_score: 0.2087 - val_loss: 0.0576 - val_acc: 0.0337 - val_R2_score: 0.1779\n",
      "Epoch 165/1000\n",
      " - 7s - loss: 0.0571 - acc: 0.0292 - R2_score: 0.2093 - val_loss: 0.0578 - val_acc: 0.0338 - val_R2_score: 0.1760\n",
      "Epoch 166/1000\n",
      " - 8s - loss: 0.0572 - acc: 0.0294 - R2_score: 0.2078 - val_loss: 0.0575 - val_acc: 0.0338 - val_R2_score: 0.1781\n",
      "Epoch 167/1000\n",
      " - 7s - loss: 0.0571 - acc: 0.0293 - R2_score: 0.2099 - val_loss: 0.0589 - val_acc: 0.0336 - val_R2_score: 0.1627\n",
      "Epoch 168/1000\n",
      " - 7s - loss: 0.0571 - acc: 0.0292 - R2_score: 0.2070 - val_loss: 0.0576 - val_acc: 0.0338 - val_R2_score: 0.1784\n",
      "Epoch 169/1000\n",
      " - 8s - loss: 0.0571 - acc: 0.0294 - R2_score: 0.2097 - val_loss: 0.0581 - val_acc: 0.0337 - val_R2_score: 0.1733\n",
      "Epoch 170/1000\n",
      " - 8s - loss: 0.0570 - acc: 0.0293 - R2_score: 0.2095 - val_loss: 0.0574 - val_acc: 0.0338 - val_R2_score: 0.1784\n",
      "Epoch 171/1000\n",
      " - 7s - loss: 0.0569 - acc: 0.0292 - R2_score: 0.2115 - val_loss: 0.0574 - val_acc: 0.0338 - val_R2_score: 0.1783\n",
      "Epoch 172/1000\n",
      " - 8s - loss: 0.0571 - acc: 0.0293 - R2_score: 0.2092 - val_loss: 0.0578 - val_acc: 0.0336 - val_R2_score: 0.1695\n",
      "Epoch 173/1000\n",
      " - 7s - loss: 0.0570 - acc: 0.0293 - R2_score: 0.2108 - val_loss: 0.0584 - val_acc: 0.0336 - val_R2_score: 0.1693\n",
      "Epoch 174/1000\n",
      " - 8s - loss: 0.0570 - acc: 0.0294 - R2_score: 0.2103 - val_loss: 0.0574 - val_acc: 0.0338 - val_R2_score: 0.1800\n",
      "Epoch 175/1000\n",
      " - 7s - loss: 0.0570 - acc: 0.0293 - R2_score: 0.2111 - val_loss: 0.0580 - val_acc: 0.0337 - val_R2_score: 0.1744\n",
      "Epoch 176/1000\n",
      " - 7s - loss: 0.0570 - acc: 0.0294 - R2_score: 0.2112 - val_loss: 0.0576 - val_acc: 0.0337 - val_R2_score: 0.1743\n",
      "Epoch 177/1000\n",
      " - 7s - loss: 0.0569 - acc: 0.0293 - R2_score: 0.2117 - val_loss: 0.0576 - val_acc: 0.0336 - val_R2_score: 0.1742\n",
      "Epoch 178/1000\n",
      " - 7s - loss: 0.0569 - acc: 0.0293 - R2_score: 0.2136 - val_loss: 0.0573 - val_acc: 0.0338 - val_R2_score: 0.1808\n",
      "Epoch 179/1000\n",
      " - 7s - loss: 0.0569 - acc: 0.0293 - R2_score: 0.2107 - val_loss: 0.0575 - val_acc: 0.0339 - val_R2_score: 0.1803\n",
      "Epoch 180/1000\n",
      " - 7s - loss: 0.0570 - acc: 0.0293 - R2_score: 0.2109 - val_loss: 0.0573 - val_acc: 0.0337 - val_R2_score: 0.1806\n",
      "Epoch 181/1000\n",
      " - 7s - loss: 0.0570 - acc: 0.0293 - R2_score: 0.2106 - val_loss: 0.0578 - val_acc: 0.0336 - val_R2_score: 0.1695\n",
      "Epoch 182/1000\n",
      " - 8s - loss: 0.0569 - acc: 0.0292 - R2_score: 0.2128 - val_loss: 0.0573 - val_acc: 0.0338 - val_R2_score: 0.1800\n",
      "Epoch 183/1000\n",
      " - 8s - loss: 0.0569 - acc: 0.0293 - R2_score: 0.2103 - val_loss: 0.0581 - val_acc: 0.0334 - val_R2_score: 0.1636\n",
      "Epoch 184/1000\n",
      " - 7s - loss: 0.0568 - acc: 0.0294 - R2_score: 0.2126 - val_loss: 0.0575 - val_acc: 0.0339 - val_R2_score: 0.1802\n",
      "Epoch 185/1000\n",
      " - 8s - loss: 0.0568 - acc: 0.0293 - R2_score: 0.2131 - val_loss: 0.0577 - val_acc: 0.0338 - val_R2_score: 0.1777\n",
      "Epoch 186/1000\n",
      " - 7s - loss: 0.0568 - acc: 0.0292 - R2_score: 0.2130 - val_loss: 0.0572 - val_acc: 0.0337 - val_R2_score: 0.1805\n",
      "Epoch 187/1000\n",
      " - 8s - loss: 0.0568 - acc: 0.0294 - R2_score: 0.2133 - val_loss: 0.0584 - val_acc: 0.0336 - val_R2_score: 0.1698\n",
      "Epoch 188/1000\n",
      " - 7s - loss: 0.0569 - acc: 0.0293 - R2_score: 0.2112 - val_loss: 0.0573 - val_acc: 0.0337 - val_R2_score: 0.1826\n",
      "Epoch 189/1000\n",
      " - 7s - loss: 0.0567 - acc: 0.0293 - R2_score: 0.2151 - val_loss: 0.0572 - val_acc: 0.0337 - val_R2_score: 0.1822\n",
      "Epoch 190/1000\n",
      " - 7s - loss: 0.0567 - acc: 0.0293 - R2_score: 0.2137 - val_loss: 0.0577 - val_acc: 0.0338 - val_R2_score: 0.1786\n",
      "Epoch 191/1000\n",
      " - 6s - loss: 0.0567 - acc: 0.0293 - R2_score: 0.2140 - val_loss: 0.0573 - val_acc: 0.0338 - val_R2_score: 0.1829\n",
      "Epoch 192/1000\n",
      " - 8s - loss: 0.0567 - acc: 0.0293 - R2_score: 0.2120 - val_loss: 0.0575 - val_acc: 0.0339 - val_R2_score: 0.1805\n"
     ]
    },
    {
     "name": "stdout",
     "output_type": "stream",
     "text": [
      "Epoch 193/1000\n",
      " - 8s - loss: 0.0566 - acc: 0.0293 - R2_score: 0.2153 - val_loss: 0.0571 - val_acc: 0.0337 - val_R2_score: 0.1838\n",
      "Epoch 194/1000\n",
      " - 8s - loss: 0.0567 - acc: 0.0293 - R2_score: 0.2139 - val_loss: 0.0573 - val_acc: 0.0338 - val_R2_score: 0.1824\n",
      "Epoch 195/1000\n",
      " - 8s - loss: 0.0568 - acc: 0.0292 - R2_score: 0.2128 - val_loss: 0.0573 - val_acc: 0.0337 - val_R2_score: 0.1788\n",
      "Epoch 196/1000\n",
      " - 8s - loss: 0.0567 - acc: 0.0293 - R2_score: 0.2122 - val_loss: 0.0573 - val_acc: 0.0339 - val_R2_score: 0.1832\n",
      "Epoch 197/1000\n",
      " - 7s - loss: 0.0567 - acc: 0.0292 - R2_score: 0.2156 - val_loss: 0.0573 - val_acc: 0.0337 - val_R2_score: 0.1786\n",
      "Epoch 198/1000\n",
      " - 7s - loss: 0.0566 - acc: 0.0293 - R2_score: 0.2161 - val_loss: 0.0571 - val_acc: 0.0337 - val_R2_score: 0.1824\n",
      "Epoch 199/1000\n",
      " - 6s - loss: 0.0566 - acc: 0.0294 - R2_score: 0.2165 - val_loss: 0.0578 - val_acc: 0.0335 - val_R2_score: 0.1686\n",
      "Epoch 200/1000\n",
      " - 7s - loss: 0.0567 - acc: 0.0292 - R2_score: 0.2157 - val_loss: 0.0571 - val_acc: 0.0338 - val_R2_score: 0.1822\n",
      "Epoch 201/1000\n",
      " - 8s - loss: 0.0565 - acc: 0.0292 - R2_score: 0.2168 - val_loss: 0.0570 - val_acc: 0.0338 - val_R2_score: 0.1850\n",
      "Epoch 202/1000\n",
      " - 7s - loss: 0.0565 - acc: 0.0293 - R2_score: 0.2167 - val_loss: 0.0570 - val_acc: 0.0337 - val_R2_score: 0.1857\n",
      "Epoch 203/1000\n",
      " - 7s - loss: 0.0565 - acc: 0.0293 - R2_score: 0.2168 - val_loss: 0.0570 - val_acc: 0.0338 - val_R2_score: 0.1857\n",
      "Epoch 204/1000\n",
      " - 7s - loss: 0.0566 - acc: 0.0292 - R2_score: 0.2155 - val_loss: 0.0571 - val_acc: 0.0338 - val_R2_score: 0.1824\n",
      "Epoch 205/1000\n",
      " - 7s - loss: 0.0565 - acc: 0.0294 - R2_score: 0.2192 - val_loss: 0.0580 - val_acc: 0.0334 - val_R2_score: 0.1642\n",
      "Epoch 206/1000\n",
      " - 7s - loss: 0.0565 - acc: 0.0293 - R2_score: 0.2169 - val_loss: 0.0573 - val_acc: 0.0336 - val_R2_score: 0.1775\n",
      "Epoch 207/1000\n",
      " - 7s - loss: 0.0566 - acc: 0.0294 - R2_score: 0.2162 - val_loss: 0.0570 - val_acc: 0.0337 - val_R2_score: 0.1862\n",
      "Epoch 208/1000\n",
      " - 8s - loss: 0.0567 - acc: 0.0294 - R2_score: 0.2160 - val_loss: 0.0572 - val_acc: 0.0338 - val_R2_score: 0.1850\n",
      "Epoch 209/1000\n",
      " - 7s - loss: 0.0565 - acc: 0.0294 - R2_score: 0.2176 - val_loss: 0.0570 - val_acc: 0.0338 - val_R2_score: 0.1837\n",
      "Epoch 210/1000\n",
      " - 8s - loss: 0.0565 - acc: 0.0294 - R2_score: 0.2173 - val_loss: 0.0573 - val_acc: 0.0336 - val_R2_score: 0.1780\n",
      "Epoch 211/1000\n",
      " - 7s - loss: 0.0564 - acc: 0.0293 - R2_score: 0.2184 - val_loss: 0.0570 - val_acc: 0.0338 - val_R2_score: 0.1835\n",
      "Epoch 212/1000\n",
      " - 6s - loss: 0.0565 - acc: 0.0293 - R2_score: 0.2180 - val_loss: 0.0572 - val_acc: 0.0336 - val_R2_score: 0.1788\n",
      "Epoch 213/1000\n",
      " - 8s - loss: 0.0564 - acc: 0.0294 - R2_score: 0.2201 - val_loss: 0.0570 - val_acc: 0.0336 - val_R2_score: 0.1869\n",
      "Epoch 214/1000\n",
      " - 7s - loss: 0.0564 - acc: 0.0293 - R2_score: 0.2186 - val_loss: 0.0568 - val_acc: 0.0337 - val_R2_score: 0.1875\n",
      "Epoch 215/1000\n",
      " - 8s - loss: 0.0564 - acc: 0.0294 - R2_score: 0.2184 - val_loss: 0.0569 - val_acc: 0.0338 - val_R2_score: 0.1852\n",
      "Epoch 216/1000\n",
      " - 8s - loss: 0.0563 - acc: 0.0293 - R2_score: 0.2190 - val_loss: 0.0570 - val_acc: 0.0338 - val_R2_score: 0.1824\n",
      "Epoch 217/1000\n",
      " - 8s - loss: 0.0564 - acc: 0.0293 - R2_score: 0.2184 - val_loss: 0.0568 - val_acc: 0.0337 - val_R2_score: 0.1880\n",
      "Epoch 218/1000\n",
      " - 8s - loss: 0.0564 - acc: 0.0293 - R2_score: 0.2182 - val_loss: 0.0568 - val_acc: 0.0337 - val_R2_score: 0.1875\n",
      "Epoch 219/1000\n",
      " - 7s - loss: 0.0563 - acc: 0.0292 - R2_score: 0.2194 - val_loss: 0.0568 - val_acc: 0.0338 - val_R2_score: 0.1885\n",
      "Epoch 220/1000\n",
      " - 7s - loss: 0.0563 - acc: 0.0293 - R2_score: 0.2204 - val_loss: 0.0572 - val_acc: 0.0339 - val_R2_score: 0.1855\n",
      "Epoch 221/1000\n",
      " - 8s - loss: 0.0564 - acc: 0.0295 - R2_score: 0.2190 - val_loss: 0.0588 - val_acc: 0.0337 - val_R2_score: 0.1651\n",
      "Epoch 222/1000\n",
      " - 7s - loss: 0.0563 - acc: 0.0294 - R2_score: 0.2197 - val_loss: 0.0573 - val_acc: 0.0339 - val_R2_score: 0.1834\n",
      "Epoch 223/1000\n",
      " - 7s - loss: 0.0563 - acc: 0.0294 - R2_score: 0.2205 - val_loss: 0.0572 - val_acc: 0.0335 - val_R2_score: 0.1785\n",
      "Epoch 224/1000\n",
      " - 7s - loss: 0.0563 - acc: 0.0293 - R2_score: 0.2198 - val_loss: 0.0567 - val_acc: 0.0337 - val_R2_score: 0.1890\n",
      "Epoch 225/1000\n",
      " - 7s - loss: 0.0563 - acc: 0.0293 - R2_score: 0.2203 - val_loss: 0.0578 - val_acc: 0.0339 - val_R2_score: 0.1775\n",
      "Epoch 226/1000\n",
      " - 8s - loss: 0.0563 - acc: 0.0293 - R2_score: 0.2204 - val_loss: 0.0567 - val_acc: 0.0337 - val_R2_score: 0.1887\n",
      "Epoch 227/1000\n",
      " - 7s - loss: 0.0563 - acc: 0.0294 - R2_score: 0.2203 - val_loss: 0.0572 - val_acc: 0.0339 - val_R2_score: 0.1852\n",
      "Epoch 228/1000\n",
      " - 7s - loss: 0.0563 - acc: 0.0293 - R2_score: 0.2197 - val_loss: 0.0567 - val_acc: 0.0337 - val_R2_score: 0.1899\n",
      "Epoch 229/1000\n",
      " - 8s - loss: 0.0562 - acc: 0.0293 - R2_score: 0.2208 - val_loss: 0.0575 - val_acc: 0.0339 - val_R2_score: 0.1821\n",
      "Epoch 230/1000\n",
      " - 7s - loss: 0.0562 - acc: 0.0292 - R2_score: 0.2202 - val_loss: 0.0570 - val_acc: 0.0337 - val_R2_score: 0.1815\n",
      "Epoch 231/1000\n",
      " - 7s - loss: 0.0564 - acc: 0.0294 - R2_score: 0.2195 - val_loss: 0.0568 - val_acc: 0.0338 - val_R2_score: 0.1853\n",
      "Epoch 232/1000\n",
      " - 7s - loss: 0.0564 - acc: 0.0295 - R2_score: 0.2185 - val_loss: 0.0568 - val_acc: 0.0338 - val_R2_score: 0.1895\n",
      "Epoch 233/1000\n",
      " - 8s - loss: 0.0562 - acc: 0.0294 - R2_score: 0.2230 - val_loss: 0.0570 - val_acc: 0.0337 - val_R2_score: 0.1812\n",
      "Epoch 234/1000\n",
      " - 7s - loss: 0.0562 - acc: 0.0294 - R2_score: 0.2215 - val_loss: 0.0567 - val_acc: 0.0338 - val_R2_score: 0.1873\n",
      "Epoch 235/1000\n",
      " - 8s - loss: 0.0563 - acc: 0.0294 - R2_score: 0.2205 - val_loss: 0.0567 - val_acc: 0.0339 - val_R2_score: 0.1903\n",
      "Epoch 236/1000\n",
      " - 7s - loss: 0.0562 - acc: 0.0294 - R2_score: 0.2199 - val_loss: 0.0567 - val_acc: 0.0338 - val_R2_score: 0.1908\n",
      "Epoch 237/1000\n",
      " - 8s - loss: 0.0561 - acc: 0.0293 - R2_score: 0.2217 - val_loss: 0.0566 - val_acc: 0.0337 - val_R2_score: 0.1913\n",
      "Epoch 238/1000\n",
      " - 7s - loss: 0.0562 - acc: 0.0294 - R2_score: 0.2216 - val_loss: 0.0567 - val_acc: 0.0337 - val_R2_score: 0.1863\n",
      "Epoch 239/1000\n",
      " - 8s - loss: 0.0561 - acc: 0.0294 - R2_score: 0.2232 - val_loss: 0.0569 - val_acc: 0.0337 - val_R2_score: 0.1831\n",
      "Epoch 240/1000\n",
      " - 7s - loss: 0.0562 - acc: 0.0293 - R2_score: 0.2226 - val_loss: 0.0566 - val_acc: 0.0338 - val_R2_score: 0.1890\n",
      "Epoch 241/1000\n",
      " - 8s - loss: 0.0560 - acc: 0.0294 - R2_score: 0.2244 - val_loss: 0.0567 - val_acc: 0.0337 - val_R2_score: 0.1874\n",
      "Epoch 242/1000\n",
      " - 7s - loss: 0.0560 - acc: 0.0294 - R2_score: 0.2242 - val_loss: 0.0567 - val_acc: 0.0339 - val_R2_score: 0.1914\n",
      "Epoch 243/1000\n",
      " - 7s - loss: 0.0563 - acc: 0.0294 - R2_score: 0.2208 - val_loss: 0.0579 - val_acc: 0.0332 - val_R2_score: 0.1654\n",
      "Epoch 244/1000\n",
      " - 7s - loss: 0.0561 - acc: 0.0293 - R2_score: 0.2222 - val_loss: 0.0566 - val_acc: 0.0338 - val_R2_score: 0.1919\n",
      "Epoch 245/1000\n",
      " - 7s - loss: 0.0561 - acc: 0.0295 - R2_score: 0.2219 - val_loss: 0.0569 - val_acc: 0.0338 - val_R2_score: 0.1893\n",
      "Epoch 246/1000\n",
      " - 7s - loss: 0.0561 - acc: 0.0292 - R2_score: 0.2234 - val_loss: 0.0565 - val_acc: 0.0337 - val_R2_score: 0.1915\n",
      "Epoch 247/1000\n",
      " - 7s - loss: 0.0560 - acc: 0.0294 - R2_score: 0.2228 - val_loss: 0.0567 - val_acc: 0.0337 - val_R2_score: 0.1872\n",
      "Epoch 248/1000\n",
      " - 7s - loss: 0.0561 - acc: 0.0295 - R2_score: 0.2226 - val_loss: 0.0569 - val_acc: 0.0337 - val_R2_score: 0.1833\n",
      "Epoch 249/1000\n",
      " - 7s - loss: 0.0560 - acc: 0.0293 - R2_score: 0.2250 - val_loss: 0.0565 - val_acc: 0.0336 - val_R2_score: 0.1911\n",
      "Epoch 250/1000\n",
      " - 8s - loss: 0.0559 - acc: 0.0294 - R2_score: 0.2258 - val_loss: 0.0567 - val_acc: 0.0338 - val_R2_score: 0.1857\n",
      "Epoch 251/1000\n",
      " - 7s - loss: 0.0560 - acc: 0.0294 - R2_score: 0.2248 - val_loss: 0.0582 - val_acc: 0.0339 - val_R2_score: 0.1733\n",
      "Epoch 252/1000\n",
      " - 8s - loss: 0.0559 - acc: 0.0294 - R2_score: 0.2250 - val_loss: 0.0566 - val_acc: 0.0337 - val_R2_score: 0.1874\n",
      "Epoch 253/1000\n",
      " - 7s - loss: 0.0559 - acc: 0.0294 - R2_score: 0.2251 - val_loss: 0.0568 - val_acc: 0.0337 - val_R2_score: 0.1848\n",
      "Epoch 254/1000\n",
      " - 7s - loss: 0.0560 - acc: 0.0294 - R2_score: 0.2252 - val_loss: 0.0580 - val_acc: 0.0339 - val_R2_score: 0.1759\n",
      "Epoch 255/1000\n",
      " - 8s - loss: 0.0560 - acc: 0.0293 - R2_score: 0.2239 - val_loss: 0.0567 - val_acc: 0.0338 - val_R2_score: 0.1912\n",
      "Epoch 256/1000\n",
      " - 7s - loss: 0.0560 - acc: 0.0294 - R2_score: 0.2241 - val_loss: 0.0564 - val_acc: 0.0339 - val_R2_score: 0.1941\n"
     ]
    },
    {
     "name": "stdout",
     "output_type": "stream",
     "text": [
      "Epoch 257/1000\n",
      " - 7s - loss: 0.0559 - acc: 0.0294 - R2_score: 0.2270 - val_loss: 0.0565 - val_acc: 0.0338 - val_R2_score: 0.1936\n",
      "Epoch 258/1000\n",
      " - 7s - loss: 0.0561 - acc: 0.0294 - R2_score: 0.2234 - val_loss: 0.0584 - val_acc: 0.0331 - val_R2_score: 0.1574\n",
      "Epoch 259/1000\n",
      " - 7s - loss: 0.0559 - acc: 0.0294 - R2_score: 0.2260 - val_loss: 0.0571 - val_acc: 0.0339 - val_R2_score: 0.1875\n",
      "Epoch 260/1000\n",
      " - 7s - loss: 0.0558 - acc: 0.0294 - R2_score: 0.2268 - val_loss: 0.0566 - val_acc: 0.0338 - val_R2_score: 0.1882\n",
      "Epoch 261/1000\n",
      " - 8s - loss: 0.0559 - acc: 0.0293 - R2_score: 0.2259 - val_loss: 0.0571 - val_acc: 0.0335 - val_R2_score: 0.1792\n",
      "Epoch 262/1000\n",
      " - 7s - loss: 0.0559 - acc: 0.0294 - R2_score: 0.2259 - val_loss: 0.0563 - val_acc: 0.0338 - val_R2_score: 0.1949\n",
      "Epoch 263/1000\n",
      " - 8s - loss: 0.0558 - acc: 0.0294 - R2_score: 0.2265 - val_loss: 0.0563 - val_acc: 0.0338 - val_R2_score: 0.1949\n",
      "Epoch 264/1000\n",
      " - 7s - loss: 0.0558 - acc: 0.0294 - R2_score: 0.2266 - val_loss: 0.0565 - val_acc: 0.0338 - val_R2_score: 0.1942\n",
      "Epoch 265/1000\n",
      " - 8s - loss: 0.0559 - acc: 0.0293 - R2_score: 0.2235 - val_loss: 0.0563 - val_acc: 0.0336 - val_R2_score: 0.1947\n",
      "Epoch 266/1000\n",
      " - 8s - loss: 0.0560 - acc: 0.0295 - R2_score: 0.2250 - val_loss: 0.0565 - val_acc: 0.0338 - val_R2_score: 0.1904\n",
      "Epoch 267/1000\n",
      " - 7s - loss: 0.0558 - acc: 0.0294 - R2_score: 0.2274 - val_loss: 0.0563 - val_acc: 0.0339 - val_R2_score: 0.1953\n",
      "Epoch 268/1000\n",
      " - 7s - loss: 0.0560 - acc: 0.0294 - R2_score: 0.2241 - val_loss: 0.0563 - val_acc: 0.0337 - val_R2_score: 0.1947\n",
      "Epoch 269/1000\n",
      " - 7s - loss: 0.0558 - acc: 0.0292 - R2_score: 0.2252 - val_loss: 0.0566 - val_acc: 0.0339 - val_R2_score: 0.1930\n",
      "Epoch 270/1000\n",
      " - 7s - loss: 0.0558 - acc: 0.0295 - R2_score: 0.2274 - val_loss: 0.0562 - val_acc: 0.0338 - val_R2_score: 0.1959\n",
      "Epoch 271/1000\n",
      " - 7s - loss: 0.0558 - acc: 0.0294 - R2_score: 0.2285 - val_loss: 0.0568 - val_acc: 0.0336 - val_R2_score: 0.1843\n",
      "Epoch 272/1000\n",
      " - 7s - loss: 0.0558 - acc: 0.0294 - R2_score: 0.2274 - val_loss: 0.0565 - val_acc: 0.0339 - val_R2_score: 0.1946\n",
      "Epoch 273/1000\n",
      " - 7s - loss: 0.0559 - acc: 0.0294 - R2_score: 0.2251 - val_loss: 0.0562 - val_acc: 0.0338 - val_R2_score: 0.1963\n",
      "Epoch 274/1000\n",
      " - 7s - loss: 0.0558 - acc: 0.0293 - R2_score: 0.2270 - val_loss: 0.0562 - val_acc: 0.0337 - val_R2_score: 0.1957\n",
      "Epoch 275/1000\n",
      " - 7s - loss: 0.0557 - acc: 0.0295 - R2_score: 0.2286 - val_loss: 0.0564 - val_acc: 0.0339 - val_R2_score: 0.1956\n",
      "Epoch 276/1000\n",
      " - 7s - loss: 0.0558 - acc: 0.0294 - R2_score: 0.2259 - val_loss: 0.0564 - val_acc: 0.0339 - val_R2_score: 0.1955\n",
      "Epoch 277/1000\n",
      " - 7s - loss: 0.0557 - acc: 0.0294 - R2_score: 0.2272 - val_loss: 0.0562 - val_acc: 0.0338 - val_R2_score: 0.1967\n",
      "Epoch 278/1000\n",
      " - 7s - loss: 0.0558 - acc: 0.0294 - R2_score: 0.2267 - val_loss: 0.0576 - val_acc: 0.0332 - val_R2_score: 0.1695\n",
      "Epoch 279/1000\n",
      " - 7s - loss: 0.0557 - acc: 0.0295 - R2_score: 0.2284 - val_loss: 0.0562 - val_acc: 0.0336 - val_R2_score: 0.1946\n",
      "Epoch 280/1000\n",
      " - 7s - loss: 0.0557 - acc: 0.0295 - R2_score: 0.2274 - val_loss: 0.0562 - val_acc: 0.0336 - val_R2_score: 0.1965\n",
      "Epoch 281/1000\n",
      " - 7s - loss: 0.0557 - acc: 0.0295 - R2_score: 0.2285 - val_loss: 0.0564 - val_acc: 0.0339 - val_R2_score: 0.1956\n",
      "Epoch 282/1000\n",
      " - 7s - loss: 0.0556 - acc: 0.0294 - R2_score: 0.2297 - val_loss: 0.0561 - val_acc: 0.0337 - val_R2_score: 0.1972\n",
      "Epoch 283/1000\n",
      " - 8s - loss: 0.0557 - acc: 0.0294 - R2_score: 0.2295 - val_loss: 0.0563 - val_acc: 0.0336 - val_R2_score: 0.1922\n",
      "Epoch 284/1000\n",
      " - 8s - loss: 0.0557 - acc: 0.0295 - R2_score: 0.2272 - val_loss: 0.0561 - val_acc: 0.0337 - val_R2_score: 0.1969\n",
      "Epoch 285/1000\n",
      " - 7s - loss: 0.0556 - acc: 0.0294 - R2_score: 0.2306 - val_loss: 0.0570 - val_acc: 0.0334 - val_R2_score: 0.1795\n",
      "Epoch 286/1000\n",
      " - 7s - loss: 0.0557 - acc: 0.0294 - R2_score: 0.2273 - val_loss: 0.0562 - val_acc: 0.0338 - val_R2_score: 0.1976\n",
      "Epoch 287/1000\n",
      " - 8s - loss: 0.0557 - acc: 0.0295 - R2_score: 0.2291 - val_loss: 0.0562 - val_acc: 0.0339 - val_R2_score: 0.1978\n",
      "Epoch 288/1000\n",
      " - 7s - loss: 0.0557 - acc: 0.0293 - R2_score: 0.2267 - val_loss: 0.0561 - val_acc: 0.0337 - val_R2_score: 0.1971\n",
      "Epoch 289/1000\n",
      " - 7s - loss: 0.0555 - acc: 0.0293 - R2_score: 0.2302 - val_loss: 0.0561 - val_acc: 0.0336 - val_R2_score: 0.1963\n",
      "Epoch 290/1000\n",
      " - 8s - loss: 0.0556 - acc: 0.0296 - R2_score: 0.2294 - val_loss: 0.0573 - val_acc: 0.0333 - val_R2_score: 0.1741\n",
      "Epoch 291/1000\n",
      " - 8s - loss: 0.0556 - acc: 0.0294 - R2_score: 0.2294 - val_loss: 0.0561 - val_acc: 0.0338 - val_R2_score: 0.1981\n",
      "Epoch 292/1000\n",
      " - 7s - loss: 0.0557 - acc: 0.0294 - R2_score: 0.2291 - val_loss: 0.0566 - val_acc: 0.0336 - val_R2_score: 0.1874\n",
      "Epoch 293/1000\n",
      " - 7s - loss: 0.0556 - acc: 0.0294 - R2_score: 0.2309 - val_loss: 0.0561 - val_acc: 0.0337 - val_R2_score: 0.1973\n",
      "Epoch 294/1000\n",
      " - 7s - loss: 0.0557 - acc: 0.0293 - R2_score: 0.2281 - val_loss: 0.0563 - val_acc: 0.0339 - val_R2_score: 0.1970\n",
      "Epoch 295/1000\n",
      " - 7s - loss: 0.0556 - acc: 0.0295 - R2_score: 0.2308 - val_loss: 0.0561 - val_acc: 0.0338 - val_R2_score: 0.1984\n",
      "Epoch 296/1000\n",
      " - 7s - loss: 0.0557 - acc: 0.0294 - R2_score: 0.2279 - val_loss: 0.0560 - val_acc: 0.0337 - val_R2_score: 0.1982\n",
      "Epoch 297/1000\n",
      " - 7s - loss: 0.0555 - acc: 0.0294 - R2_score: 0.2314 - val_loss: 0.0560 - val_acc: 0.0337 - val_R2_score: 0.1984\n",
      "Epoch 298/1000\n",
      " - 7s - loss: 0.0556 - acc: 0.0294 - R2_score: 0.2296 - val_loss: 0.0561 - val_acc: 0.0338 - val_R2_score: 0.1988\n",
      "Epoch 299/1000\n",
      " - 8s - loss: 0.0555 - acc: 0.0294 - R2_score: 0.2307 - val_loss: 0.0571 - val_acc: 0.0339 - val_R2_score: 0.1880\n",
      "Epoch 300/1000\n",
      " - 7s - loss: 0.0556 - acc: 0.0294 - R2_score: 0.2299 - val_loss: 0.0561 - val_acc: 0.0337 - val_R2_score: 0.1987\n",
      "Epoch 301/1000\n",
      " - 8s - loss: 0.0554 - acc: 0.0293 - R2_score: 0.2330 - val_loss: 0.0561 - val_acc: 0.0336 - val_R2_score: 0.1955\n",
      "Epoch 302/1000\n",
      " - 7s - loss: 0.0555 - acc: 0.0295 - R2_score: 0.2311 - val_loss: 0.0561 - val_acc: 0.0337 - val_R2_score: 0.1971\n",
      "Epoch 303/1000\n",
      " - 7s - loss: 0.0555 - acc: 0.0294 - R2_score: 0.2309 - val_loss: 0.0565 - val_acc: 0.0336 - val_R2_score: 0.1875\n",
      "Epoch 304/1000\n",
      " - 8s - loss: 0.0555 - acc: 0.0294 - R2_score: 0.2307 - val_loss: 0.0560 - val_acc: 0.0337 - val_R2_score: 0.1993\n",
      "Epoch 305/1000\n",
      " - 7s - loss: 0.0556 - acc: 0.0294 - R2_score: 0.2291 - val_loss: 0.0568 - val_acc: 0.0339 - val_R2_score: 0.1916\n",
      "Epoch 306/1000\n",
      " - 7s - loss: 0.0556 - acc: 0.0293 - R2_score: 0.2294 - val_loss: 0.0560 - val_acc: 0.0337 - val_R2_score: 0.1993\n",
      "Epoch 307/1000\n",
      " - 8s - loss: 0.0556 - acc: 0.0294 - R2_score: 0.2314 - val_loss: 0.0568 - val_acc: 0.0334 - val_R2_score: 0.1830\n",
      "Epoch 308/1000\n",
      " - 7s - loss: 0.0556 - acc: 0.0295 - R2_score: 0.2282 - val_loss: 0.0571 - val_acc: 0.0332 - val_R2_score: 0.1782\n",
      "Epoch 309/1000\n",
      " - 8s - loss: 0.0555 - acc: 0.0294 - R2_score: 0.2316 - val_loss: 0.0560 - val_acc: 0.0337 - val_R2_score: 0.1996\n",
      "Epoch 310/1000\n",
      " - 7s - loss: 0.0555 - acc: 0.0293 - R2_score: 0.2303 - val_loss: 0.0559 - val_acc: 0.0337 - val_R2_score: 0.1995\n",
      "Epoch 311/1000\n",
      " - 7s - loss: 0.0554 - acc: 0.0294 - R2_score: 0.2330 - val_loss: 0.0565 - val_acc: 0.0336 - val_R2_score: 0.1878\n",
      "Epoch 312/1000\n",
      " - 7s - loss: 0.0556 - acc: 0.0295 - R2_score: 0.2301 - val_loss: 0.0561 - val_acc: 0.0336 - val_R2_score: 0.1962\n",
      "Epoch 313/1000\n",
      " - 8s - loss: 0.0554 - acc: 0.0295 - R2_score: 0.2332 - val_loss: 0.0559 - val_acc: 0.0338 - val_R2_score: 0.1992\n",
      "Epoch 314/1000\n",
      " - 7s - loss: 0.0554 - acc: 0.0294 - R2_score: 0.2326 - val_loss: 0.0560 - val_acc: 0.0337 - val_R2_score: 0.2002\n",
      "Epoch 315/1000\n",
      " - 8s - loss: 0.0554 - acc: 0.0294 - R2_score: 0.2326 - val_loss: 0.0560 - val_acc: 0.0337 - val_R2_score: 0.1975\n",
      "Epoch 316/1000\n",
      " - 7s - loss: 0.0554 - acc: 0.0294 - R2_score: 0.2330 - val_loss: 0.0563 - val_acc: 0.0339 - val_R2_score: 0.1979\n",
      "Epoch 317/1000\n",
      " - 8s - loss: 0.0553 - acc: 0.0293 - R2_score: 0.2335 - val_loss: 0.0560 - val_acc: 0.0336 - val_R2_score: 0.1982\n",
      "Epoch 318/1000\n",
      " - 8s - loss: 0.0556 - acc: 0.0294 - R2_score: 0.2288 - val_loss: 0.0559 - val_acc: 0.0337 - val_R2_score: 0.2008\n",
      "Epoch 319/1000\n",
      " - 8s - loss: 0.0554 - acc: 0.0295 - R2_score: 0.2333 - val_loss: 0.0560 - val_acc: 0.0337 - val_R2_score: 0.2005\n",
      "Epoch 320/1000\n",
      " - 7s - loss: 0.0554 - acc: 0.0294 - R2_score: 0.2328 - val_loss: 0.0559 - val_acc: 0.0337 - val_R2_score: 0.2004\n"
     ]
    },
    {
     "name": "stdout",
     "output_type": "stream",
     "text": [
      "Epoch 321/1000\n",
      " - 8s - loss: 0.0553 - acc: 0.0294 - R2_score: 0.2332 - val_loss: 0.0562 - val_acc: 0.0336 - val_R2_score: 0.1934\n",
      "Epoch 322/1000\n",
      " - 7s - loss: 0.0554 - acc: 0.0294 - R2_score: 0.2316 - val_loss: 0.0562 - val_acc: 0.0339 - val_R2_score: 0.1987\n",
      "Epoch 323/1000\n",
      " - 8s - loss: 0.0554 - acc: 0.0295 - R2_score: 0.2327 - val_loss: 0.0572 - val_acc: 0.0332 - val_R2_score: 0.1754\n",
      "Epoch 324/1000\n",
      " - 8s - loss: 0.0554 - acc: 0.0294 - R2_score: 0.2314 - val_loss: 0.0559 - val_acc: 0.0338 - val_R2_score: 0.2012\n",
      "Epoch 325/1000\n",
      " - 7s - loss: 0.0554 - acc: 0.0294 - R2_score: 0.2318 - val_loss: 0.0561 - val_acc: 0.0336 - val_R2_score: 0.1956\n",
      "Epoch 326/1000\n",
      " - 8s - loss: 0.0553 - acc: 0.0295 - R2_score: 0.2328 - val_loss: 0.0562 - val_acc: 0.0336 - val_R2_score: 0.1937\n",
      "Epoch 327/1000\n",
      " - 7s - loss: 0.0553 - acc: 0.0294 - R2_score: 0.2343 - val_loss: 0.0563 - val_acc: 0.0339 - val_R2_score: 0.1983\n",
      "Epoch 328/1000\n",
      " - 7s - loss: 0.0554 - acc: 0.0294 - R2_score: 0.2319 - val_loss: 0.0562 - val_acc: 0.0336 - val_R2_score: 0.1933\n",
      "Epoch 329/1000\n",
      " - 8s - loss: 0.0554 - acc: 0.0293 - R2_score: 0.2318 - val_loss: 0.0559 - val_acc: 0.0336 - val_R2_score: 0.1984\n",
      "Epoch 330/1000\n",
      " - 7s - loss: 0.0553 - acc: 0.0294 - R2_score: 0.2340 - val_loss: 0.0558 - val_acc: 0.0337 - val_R2_score: 0.2009\n",
      "Epoch 331/1000\n",
      " - 8s - loss: 0.0553 - acc: 0.0294 - R2_score: 0.2330 - val_loss: 0.0559 - val_acc: 0.0336 - val_R2_score: 0.1998\n",
      "Epoch 332/1000\n",
      " - 7s - loss: 0.0554 - acc: 0.0294 - R2_score: 0.2335 - val_loss: 0.0567 - val_acc: 0.0339 - val_R2_score: 0.1934\n",
      "Epoch 333/1000\n",
      " - 8s - loss: 0.0554 - acc: 0.0294 - R2_score: 0.2325 - val_loss: 0.0583 - val_acc: 0.0339 - val_R2_score: 0.1727\n",
      "Epoch 334/1000\n",
      " - 7s - loss: 0.0553 - acc: 0.0294 - R2_score: 0.2333 - val_loss: 0.0560 - val_acc: 0.0336 - val_R2_score: 0.1970\n",
      "Epoch 335/1000\n",
      " - 7s - loss: 0.0553 - acc: 0.0294 - R2_score: 0.2328 - val_loss: 0.0565 - val_acc: 0.0340 - val_R2_score: 0.1958\n",
      "Epoch 336/1000\n",
      " - 8s - loss: 0.0553 - acc: 0.0296 - R2_score: 0.2338 - val_loss: 0.0558 - val_acc: 0.0337 - val_R2_score: 0.2018\n",
      "Epoch 337/1000\n",
      " - 7s - loss: 0.0553 - acc: 0.0294 - R2_score: 0.2350 - val_loss: 0.0559 - val_acc: 0.0338 - val_R2_score: 0.2019\n",
      "Epoch 338/1000\n",
      " - 8s - loss: 0.0554 - acc: 0.0293 - R2_score: 0.2335 - val_loss: 0.0560 - val_acc: 0.0336 - val_R2_score: 0.1966\n",
      "Epoch 339/1000\n",
      " - 7s - loss: 0.0552 - acc: 0.0296 - R2_score: 0.2346 - val_loss: 0.0558 - val_acc: 0.0336 - val_R2_score: 0.2014\n",
      "Epoch 340/1000\n",
      " - 7s - loss: 0.0554 - acc: 0.0294 - R2_score: 0.2312 - val_loss: 0.0570 - val_acc: 0.0339 - val_R2_score: 0.1897\n",
      "Epoch 341/1000\n",
      " - 8s - loss: 0.0553 - acc: 0.0295 - R2_score: 0.2338 - val_loss: 0.0565 - val_acc: 0.0340 - val_R2_score: 0.1956\n",
      "Epoch 342/1000\n",
      " - 7s - loss: 0.0555 - acc: 0.0294 - R2_score: 0.2306 - val_loss: 0.0560 - val_acc: 0.0339 - val_R2_score: 0.2010\n",
      "Epoch 343/1000\n",
      " - 8s - loss: 0.0553 - acc: 0.0294 - R2_score: 0.2319 - val_loss: 0.0558 - val_acc: 0.0337 - val_R2_score: 0.2026\n",
      "Epoch 344/1000\n",
      " - 7s - loss: 0.0553 - acc: 0.0296 - R2_score: 0.2331 - val_loss: 0.0558 - val_acc: 0.0337 - val_R2_score: 0.2017\n",
      "Epoch 345/1000\n",
      " - 8s - loss: 0.0554 - acc: 0.0296 - R2_score: 0.2332 - val_loss: 0.0560 - val_acc: 0.0336 - val_R2_score: 0.1964\n",
      "Epoch 346/1000\n",
      " - 7s - loss: 0.0552 - acc: 0.0294 - R2_score: 0.2338 - val_loss: 0.0559 - val_acc: 0.0336 - val_R2_score: 0.1995\n",
      "Epoch 347/1000\n",
      " - 8s - loss: 0.0553 - acc: 0.0294 - R2_score: 0.2342 - val_loss: 0.0561 - val_acc: 0.0339 - val_R2_score: 0.2002\n",
      "Epoch 348/1000\n",
      " - 7s - loss: 0.0552 - acc: 0.0295 - R2_score: 0.2345 - val_loss: 0.0564 - val_acc: 0.0335 - val_R2_score: 0.1883\n",
      "Epoch 349/1000\n",
      " - 7s - loss: 0.0554 - acc: 0.0294 - R2_score: 0.2323 - val_loss: 0.0565 - val_acc: 0.0335 - val_R2_score: 0.1868\n",
      "Epoch 350/1000\n",
      " - 7s - loss: 0.0554 - acc: 0.0294 - R2_score: 0.2329 - val_loss: 0.0569 - val_acc: 0.0339 - val_R2_score: 0.1908\n",
      "Epoch 351/1000\n",
      " - 7s - loss: 0.0553 - acc: 0.0294 - R2_score: 0.2332 - val_loss: 0.0560 - val_acc: 0.0339 - val_R2_score: 0.2011\n",
      "Epoch 352/1000\n",
      " - 8s - loss: 0.0552 - acc: 0.0297 - R2_score: 0.2358 - val_loss: 0.0561 - val_acc: 0.0339 - val_R2_score: 0.2002\n",
      "Epoch 353/1000\n",
      " - 7s - loss: 0.0552 - acc: 0.0296 - R2_score: 0.2360 - val_loss: 0.0559 - val_acc: 0.0338 - val_R2_score: 0.2026\n",
      "Epoch 354/1000\n",
      " - 8s - loss: 0.0552 - acc: 0.0295 - R2_score: 0.2345 - val_loss: 0.0557 - val_acc: 0.0338 - val_R2_score: 0.2031\n",
      "Epoch 355/1000\n",
      " - 8s - loss: 0.0551 - acc: 0.0295 - R2_score: 0.2364 - val_loss: 0.0559 - val_acc: 0.0336 - val_R2_score: 0.1992\n",
      "Epoch 356/1000\n",
      " - 8s - loss: 0.0553 - acc: 0.0295 - R2_score: 0.2349 - val_loss: 0.0557 - val_acc: 0.0337 - val_R2_score: 0.2033\n",
      "Epoch 357/1000\n",
      " - 7s - loss: 0.0551 - acc: 0.0296 - R2_score: 0.2370 - val_loss: 0.0560 - val_acc: 0.0339 - val_R2_score: 0.2019\n",
      "Epoch 358/1000\n",
      " - 7s - loss: 0.0552 - acc: 0.0294 - R2_score: 0.2352 - val_loss: 0.0558 - val_acc: 0.0339 - val_R2_score: 0.2030\n",
      "Epoch 359/1000\n",
      " - 8s - loss: 0.0551 - acc: 0.0295 - R2_score: 0.2380 - val_loss: 0.0561 - val_acc: 0.0339 - val_R2_score: 0.2003\n",
      "Epoch 360/1000\n",
      " - 7s - loss: 0.0553 - acc: 0.0294 - R2_score: 0.2338 - val_loss: 0.0557 - val_acc: 0.0335 - val_R2_score: 0.2019\n",
      "Epoch 361/1000\n",
      " - 8s - loss: 0.0552 - acc: 0.0295 - R2_score: 0.2347 - val_loss: 0.0560 - val_acc: 0.0339 - val_R2_score: 0.2011\n",
      "Epoch 362/1000\n",
      " - 8s - loss: 0.0552 - acc: 0.0296 - R2_score: 0.2348 - val_loss: 0.0557 - val_acc: 0.0337 - val_R2_score: 0.2035\n",
      "Epoch 363/1000\n",
      " - 8s - loss: 0.0550 - acc: 0.0294 - R2_score: 0.2382 - val_loss: 0.0560 - val_acc: 0.0339 - val_R2_score: 0.2015\n",
      "Epoch 364/1000\n",
      " - 8s - loss: 0.0552 - acc: 0.0294 - R2_score: 0.2362 - val_loss: 0.0565 - val_acc: 0.0334 - val_R2_score: 0.1874\n",
      "Epoch 365/1000\n",
      " - 8s - loss: 0.0553 - acc: 0.0295 - R2_score: 0.2326 - val_loss: 0.0563 - val_acc: 0.0334 - val_R2_score: 0.1901\n",
      "Epoch 366/1000\n",
      " - 7s - loss: 0.0551 - acc: 0.0295 - R2_score: 0.2367 - val_loss: 0.0558 - val_acc: 0.0336 - val_R2_score: 0.1994\n",
      "Epoch 367/1000\n",
      " - 8s - loss: 0.0552 - acc: 0.0295 - R2_score: 0.2343 - val_loss: 0.0558 - val_acc: 0.0339 - val_R2_score: 0.2039\n",
      "Epoch 368/1000\n",
      " - 7s - loss: 0.0551 - acc: 0.0296 - R2_score: 0.2363 - val_loss: 0.0561 - val_acc: 0.0339 - val_R2_score: 0.2008\n",
      "Epoch 369/1000\n",
      " - 8s - loss: 0.0552 - acc: 0.0294 - R2_score: 0.2350 - val_loss: 0.0564 - val_acc: 0.0339 - val_R2_score: 0.1974\n",
      "Epoch 370/1000\n",
      " - 7s - loss: 0.0552 - acc: 0.0295 - R2_score: 0.2368 - val_loss: 0.0559 - val_acc: 0.0336 - val_R2_score: 0.1977\n",
      "Epoch 371/1000\n",
      " - 8s - loss: 0.0551 - acc: 0.0295 - R2_score: 0.2358 - val_loss: 0.0557 - val_acc: 0.0336 - val_R2_score: 0.2034\n",
      "Epoch 372/1000\n",
      " - 8s - loss: 0.0552 - acc: 0.0295 - R2_score: 0.2349 - val_loss: 0.0563 - val_acc: 0.0339 - val_R2_score: 0.1981\n",
      "Epoch 373/1000\n",
      " - 8s - loss: 0.0551 - acc: 0.0295 - R2_score: 0.2364 - val_loss: 0.0559 - val_acc: 0.0339 - val_R2_score: 0.2030\n",
      "Epoch 374/1000\n",
      " - 8s - loss: 0.0551 - acc: 0.0295 - R2_score: 0.2373 - val_loss: 0.0558 - val_acc: 0.0339 - val_R2_score: 0.2033\n",
      "Epoch 375/1000\n",
      " - 7s - loss: 0.0552 - acc: 0.0294 - R2_score: 0.2366 - val_loss: 0.0567 - val_acc: 0.0339 - val_R2_score: 0.1930\n",
      "Epoch 376/1000\n",
      " - 8s - loss: 0.0552 - acc: 0.0296 - R2_score: 0.2337 - val_loss: 0.0566 - val_acc: 0.0332 - val_R2_score: 0.1855\n",
      "Epoch 377/1000\n",
      " - 7s - loss: 0.0551 - acc: 0.0295 - R2_score: 0.2365 - val_loss: 0.0556 - val_acc: 0.0336 - val_R2_score: 0.2045\n",
      "Epoch 378/1000\n",
      " - 8s - loss: 0.0550 - acc: 0.0294 - R2_score: 0.2376 - val_loss: 0.0556 - val_acc: 0.0336 - val_R2_score: 0.2036\n",
      "Epoch 379/1000\n",
      " - 7s - loss: 0.0551 - acc: 0.0295 - R2_score: 0.2359 - val_loss: 0.0560 - val_acc: 0.0336 - val_R2_score: 0.1963\n",
      "Epoch 380/1000\n",
      " - 8s - loss: 0.0550 - acc: 0.0296 - R2_score: 0.2367 - val_loss: 0.0556 - val_acc: 0.0336 - val_R2_score: 0.2046\n",
      "Epoch 381/1000\n",
      " - 8s - loss: 0.0550 - acc: 0.0294 - R2_score: 0.2370 - val_loss: 0.0557 - val_acc: 0.0336 - val_R2_score: 0.2026\n",
      "Epoch 382/1000\n",
      " - 8s - loss: 0.0550 - acc: 0.0296 - R2_score: 0.2386 - val_loss: 0.0560 - val_acc: 0.0339 - val_R2_score: 0.2015\n",
      "Epoch 383/1000\n",
      " - 7s - loss: 0.0552 - acc: 0.0295 - R2_score: 0.2337 - val_loss: 0.0559 - val_acc: 0.0339 - val_R2_score: 0.2027\n",
      "Epoch 384/1000\n",
      " - 8s - loss: 0.0551 - acc: 0.0294 - R2_score: 0.2369 - val_loss: 0.0564 - val_acc: 0.0334 - val_R2_score: 0.1894\n"
     ]
    },
    {
     "name": "stdout",
     "output_type": "stream",
     "text": [
      "Epoch 385/1000\n",
      " - 7s - loss: 0.0550 - acc: 0.0294 - R2_score: 0.2385 - val_loss: 0.0556 - val_acc: 0.0337 - val_R2_score: 0.2052\n",
      "Epoch 386/1000\n",
      " - 7s - loss: 0.0551 - acc: 0.0294 - R2_score: 0.2363 - val_loss: 0.0556 - val_acc: 0.0337 - val_R2_score: 0.2051\n",
      "Epoch 387/1000\n",
      " - 7s - loss: 0.0551 - acc: 0.0295 - R2_score: 0.2366 - val_loss: 0.0570 - val_acc: 0.0339 - val_R2_score: 0.1895\n",
      "Epoch 388/1000\n",
      " - 8s - loss: 0.0550 - acc: 0.0294 - R2_score: 0.2365 - val_loss: 0.0556 - val_acc: 0.0336 - val_R2_score: 0.2046\n",
      "Epoch 389/1000\n",
      " - 7s - loss: 0.0550 - acc: 0.0297 - R2_score: 0.2372 - val_loss: 0.0557 - val_acc: 0.0336 - val_R2_score: 0.2018\n",
      "Epoch 390/1000\n",
      " - 8s - loss: 0.0550 - acc: 0.0294 - R2_score: 0.2386 - val_loss: 0.0556 - val_acc: 0.0336 - val_R2_score: 0.2038\n",
      "Epoch 391/1000\n",
      " - 7s - loss: 0.0550 - acc: 0.0294 - R2_score: 0.2370 - val_loss: 0.0556 - val_acc: 0.0336 - val_R2_score: 0.2034\n",
      "Epoch 392/1000\n",
      " - 7s - loss: 0.0550 - acc: 0.0294 - R2_score: 0.2379 - val_loss: 0.0564 - val_acc: 0.0334 - val_R2_score: 0.1888\n",
      "Epoch 393/1000\n",
      " - 7s - loss: 0.0550 - acc: 0.0296 - R2_score: 0.2393 - val_loss: 0.0556 - val_acc: 0.0338 - val_R2_score: 0.2057\n",
      "Epoch 394/1000\n",
      " - 8s - loss: 0.0550 - acc: 0.0294 - R2_score: 0.2376 - val_loss: 0.0557 - val_acc: 0.0336 - val_R2_score: 0.2006\n",
      "Epoch 395/1000\n",
      " - 8s - loss: 0.0549 - acc: 0.0295 - R2_score: 0.2388 - val_loss: 0.0556 - val_acc: 0.0339 - val_R2_score: 0.2057\n",
      "Epoch 396/1000\n",
      " - 7s - loss: 0.0549 - acc: 0.0294 - R2_score: 0.2391 - val_loss: 0.0559 - val_acc: 0.0336 - val_R2_score: 0.1975\n",
      "Epoch 397/1000\n",
      " - 7s - loss: 0.0551 - acc: 0.0295 - R2_score: 0.2362 - val_loss: 0.0558 - val_acc: 0.0339 - val_R2_score: 0.2038\n",
      "Epoch 398/1000\n",
      " - 8s - loss: 0.0553 - acc: 0.0295 - R2_score: 0.2331 - val_loss: 0.0557 - val_acc: 0.0339 - val_R2_score: 0.2052\n",
      "Epoch 399/1000\n",
      " - 7s - loss: 0.0549 - acc: 0.0294 - R2_score: 0.2390 - val_loss: 0.0558 - val_acc: 0.0340 - val_R2_score: 0.2042\n",
      "Epoch 400/1000\n",
      " - 8s - loss: 0.0550 - acc: 0.0294 - R2_score: 0.2372 - val_loss: 0.0561 - val_acc: 0.0339 - val_R2_score: 0.2014\n",
      "Epoch 401/1000\n",
      " - 7s - loss: 0.0550 - acc: 0.0296 - R2_score: 0.2366 - val_loss: 0.0574 - val_acc: 0.0330 - val_R2_score: 0.1711\n",
      "Epoch 402/1000\n",
      " - 8s - loss: 0.0551 - acc: 0.0294 - R2_score: 0.2377 - val_loss: 0.0561 - val_acc: 0.0336 - val_R2_score: 0.1945\n",
      "Epoch 403/1000\n",
      " - 8s - loss: 0.0550 - acc: 0.0294 - R2_score: 0.2371 - val_loss: 0.0567 - val_acc: 0.0339 - val_R2_score: 0.1943\n"
     ]
    }
   ],
   "source": [
    "callbacks = [EarlyStopping(monitor='val_loss', patience=10,mode = 'min')]\n",
    "history = model.fit(train_data, train_labels, epochs=1000, callbacks = callbacks,\n",
    "                    validation_split = 0.25,shuffle = True,\n",
    "                        batch_size=100,verbose=2)"
   ]
  },
  {
   "cell_type": "code",
   "execution_count": 19,
   "metadata": {},
   "outputs": [
    {
     "data": {
      "image/png": "[encoded data removed]",
      "text/plain": [
       "<matplotlib.figure.Figure at 0x7ff6f0765ac8>"
      ]
     },
     "metadata": {
      "needs_background": "light"
     },
     "output_type": "display_data"
    },
    {
     "data": {
      "image/png": "[encoded data removed]",
      "text/plain": [
       "<matplotlib.figure.Figure at 0x7ff6f06e3c18>"
      ]
     },
     "metadata": {
      "needs_background": "light"
     },
     "output_type": "display_data"
    }
   ],
   "source": [
    "plt.plot(history.history['R2_score'])\n",
    "plt.plot(history.history['val_R2_score'])\n",
    "plt.title('R2 score')\n",
    "plt.ylabel('score')\n",
    "plt.xlabel('epoch')\n",
    "plt.legend(['train', 'test'], loc='upper left')\n",
    "plt.show()\n",
    "\n",
    "plt.plot(history.history['loss'])\n",
    "plt.plot(history.history['val_loss'])\n",
    "plt.title('CNN Loss')\n",
    "plt.ylabel('Loss')\n",
    "plt.xlabel('epoch')\n",
    "plt.legend(['train', 'test'], loc='upper left')\n",
    "plt.show()"
   ]
  },
  {
   "cell_type": "code",
   "execution_count": 20,
   "metadata": {},
   "outputs": [],
   "source": [
    "weight = model.get_weights()"
   ]
  },
  {
   "cell_type": "code",
   "execution_count": 21,
   "metadata": {},
   "outputs": [
    {
     "data": {
      "image/png": "[encoded data removed]",
      "text/plain": [
       "<matplotlib.figure.Figure at 0x7ff6f82e4ac8>"
      ]
     },
     "metadata": {
      "needs_background": "light"
     },
     "output_type": "display_data"
    },
    {
     "data": {
      "image/png": "[encoded data removed]",
      "text/plain": [
       "<matplotlib.figure.Figure at 0x7ff6f05d1978>"
      ]
     },
     "metadata": {
      "needs_background": "light"
     },
     "output_type": "display_data"
    },
    {
     "data": {
      "image/png": "[encoded data removed]",
      "text/plain": [
       "<matplotlib.figure.Figure at 0x7ff73c949828>"
      ]
     },
     "metadata": {
      "needs_background": "light"
     },
     "output_type": "display_data"
    },
    {
     "data": {
      "image/png": "[encoded data removed]",
      "text/plain": [
       "<matplotlib.figure.Figure at 0x7ff6f047bb00>"
      ]
     },
     "metadata": {
      "needs_background": "light"
     },
     "output_type": "display_data"
    },
    {
     "data": {
      "image/png": "[encoded data removed]",
      "text/plain": [
       "<matplotlib.figure.Figure at 0x7ff6f047bb70>"
      ]
     },
     "metadata": {
      "needs_background": "light"
     },
     "output_type": "display_data"
    },
    {
     "data": {
      "image/png": "[encoded data removed]",
      "text/plain": [
       "<matplotlib.figure.Figure at 0x7ff6f01d4940>"
      ]
     },
     "metadata": {
      "needs_background": "light"
     },
     "output_type": "display_data"
    },
    {
     "data": {
      "image/png": "[encoded data removed]",
      "text/plain": [
       "<matplotlib.figure.Figure at 0x7ff6f066c0f0>"
      ]
     },
     "metadata": {
      "needs_background": "light"
     },
     "output_type": "display_data"
    },
    {
     "data": {
      "image/png": "[encoded data removed]",
      "text/plain": [
       "<matplotlib.figure.Figure at 0x7ff6f82c5a20>"
      ]
     },
     "metadata": {
      "needs_background": "light"
     },
     "output_type": "display_data"
    },
    {
     "data": {
      "image/png": "[encoded data removed]",
      "text/plain": [
       "<matplotlib.figure.Figure at 0x7ff6f0522908>"
      ]
     },
     "metadata": {
      "needs_background": "light"
     },
     "output_type": "display_data"
    },
    {
     "data": {
      "image/png": "[encoded data removed]",
      "text/plain": [
       "<matplotlib.figure.Figure at 0x7ff6f073a358>"
      ]
     },
     "metadata": {
      "needs_background": "light"
     },
     "output_type": "display_data"
    },
    {
     "data": {
      "image/png": "[encoded data removed]",
      "text/plain": [
       "<matplotlib.figure.Figure at 0x7ff6f0113320>"
      ]
     },
     "metadata": {
      "needs_background": "light"
     },
     "output_type": "display_data"
    },
    {
     "data": {
      "image/png": "[encoded data removed]",
      "text/plain": [
       "<matplotlib.figure.Figure at 0x7ff6f0072320>"
      ]
     },
     "metadata": {
      "needs_background": "light"
     },
     "output_type": "display_data"
    },
    {
     "data": {
      "image/png": "[encoded data removed]",
      "text/plain": [
       "<matplotlib.figure.Figure at 0x7ff6f0072ef0>"
      ]
     },
     "metadata": {
      "needs_background": "light"
     },
     "output_type": "display_data"
    },
    {
     "data": {
      "image/png": "[encoded data removed]",
      "text/plain": [
       "<matplotlib.figure.Figure at 0x7ff6f01215c0>"
      ]
     },
     "metadata": {
      "needs_background": "light"
     },
     "output_type": "display_data"
    },
    {
     "data": {
      "image/png": "[encoded data removed]",
      "text/plain": [
       "<matplotlib.figure.Figure at 0x7ff6f05e2198>"
      ]
     },
     "metadata": {
      "needs_background": "light"
     },
     "output_type": "display_data"
    },
    {
     "data": {
      "image/png": "[encoded data removed]",
      "text/plain": [
       "<matplotlib.figure.Figure at 0x7ff6f0722438>"
      ]
     },
     "metadata": {
      "needs_background": "light"
     },
     "output_type": "display_data"
    },
    {
     "data": {
      "image/png": "[encoded data removed]",
      "text/plain": [
       "<matplotlib.figure.Figure at 0x7ff6f0691f98>"
      ]
     },
     "metadata": {
      "needs_background": "light"
     },
     "output_type": "display_data"
    },
    {
     "data": {
      "image/png": "[encoded data removed]",
      "text/plain": [
       "<matplotlib.figure.Figure at 0x7ff6cc7cfa58>"
      ]
     },
     "metadata": {
      "needs_background": "light"
     },
     "output_type": "display_data"
    },
    {
     "data": {
      "image/png": "[encoded data removed]",
      "text/plain": [
       "<matplotlib.figure.Figure at 0x7ff6f07a51d0>"
      ]
     },
     "metadata": {
      "needs_background": "light"
     },
     "output_type": "display_data"
    },
    {
     "data": {
      "image/png": "[encoded data removed]",
      "text/plain": [
       "<matplotlib.figure.Figure at 0x7ff6f07a83c8>"
      ]
     },
     "metadata": {
      "needs_background": "light"
     },
     "output_type": "display_data"
    },
    {
     "data": {
      "image/png": "[encoded data removed]",
      "text/plain": [
       "<matplotlib.figure.Figure at 0x7ff6f01fa320>"
      ]
     },
     "metadata": {
      "needs_background": "light"
     },
     "output_type": "display_data"
    },
    {
     "data": {
      "image/png": "[encoded data removed]",
      "text/plain": [
       "<matplotlib.figure.Figure at 0x7ff6f07171d0>"
      ]
     },
     "metadata": {
      "needs_background": "light"
     },
     "output_type": "display_data"
    },
    {
     "data": {
      "image/png": "[encoded data removed]",
      "text/plain": [
       "<matplotlib.figure.Figure at 0x7ff6f07aa160>"
      ]
     },
     "metadata": {
      "needs_background": "light"
     },
     "output_type": "display_data"
    },
    {
     "data": {
      "image/png": "[encoded data removed]",
      "text/plain": [
       "<matplotlib.figure.Figure at 0x7ff6f078f4a8>"
      ]
     },
     "metadata": {
      "needs_background": "light"
     },
     "output_type": "display_data"
    },
    {
     "data": {
      "image/png": "[encoded data removed]",
      "text/plain": [
       "<matplotlib.figure.Figure at 0x7ff6f049d5f8>"
      ]
     },
     "metadata": {
      "needs_background": "light"
     },
     "output_type": "display_data"
    },
    {
     "data": {
      "image/png": "[encoded data removed]",
      "text/plain": [
       "<matplotlib.figure.Figure at 0x7ff6f05a3828>"
      ]
     },
     "metadata": {
      "needs_background": "light"
     },
     "output_type": "display_data"
    },
    {
     "data": {
      "image/png": "[encoded data removed]",
      "text/plain": [
       "<matplotlib.figure.Figure at 0x7ff6f0579748>"
      ]
     },
     "metadata": {
      "needs_background": "light"
     },
     "output_type": "display_data"
    },
    {
     "data": {
      "image/png": "[encoded data removed]",
      "text/plain": [
       "<matplotlib.figure.Figure at 0x7ff6f009a1d0>"
      ]
     },
     "metadata": {
      "needs_background": "light"
     },
     "output_type": "display_data"
    },
    {
     "data": {
      "image/png": "[encoded data removed]",
      "text/plain": [
       "<matplotlib.figure.Figure at 0x7ff6f009aa90>"
      ]
     },
     "metadata": {
      "needs_background": "light"
     },
     "output_type": "display_data"
    },
    {
     "data": {
      "image/png": "[encoded data removed]",
      "text/plain": [
       "<matplotlib.figure.Figure at 0x7ff6f071e5f8>"
      ]
     },
     "metadata": {
      "needs_background": "light"
     },
     "output_type": "display_data"
    }
   ],
   "source": [
    "convFilter = weight[0]\n",
    "for i in range(30):\n",
    "    ax = sns.heatmap(convFilter[:,:,i].T)\n",
    "    plt.show()"
   ]
  },
  {
   "cell_type": "code",
   "execution_count": null,
   "metadata": {},
   "outputs": [],
   "source": []
  }
 ],
 "metadata": {
  "kernelspec": {
   "display_name": "Python 3",
   "language": "python",
   "name": "python3"
  },
  "language_info": {
   "codemirror_mode": {
    "name": "ipython",
    "version": 3
   },
   "file_extension": ".py",
   "mimetype": "text/x-python",
   "name": "python",
   "nbconvert_exporter": "python",
   "pygments_lexer": "ipython3",
   "version": "3.5.2"
  }
 },
 "nbformat": 4,
 "nbformat_minor": 2
}
