{
 "cells": [
  {
   "cell_type": "code",
   "execution_count": 1,
   "metadata": {},
   "outputs": [],
   "source": [
    "import numpy as np\n",
    "np.random.seed(3)\n",
    "from pybedtools import BedTool\n",
    "import pybedtools\n",
    "import pandas as pd\n",
    "import seaborn as sns"
   ]
  },
  {
   "cell_type": "code",
   "execution_count": 2,
   "metadata": {},
   "outputs": [],
   "source": [
    "def read_data(bed_file,fasta_file):\n",
    "    #apply bedtools to read fasta files '/home/h5li/methylation_DMR/data/DMR_coordinates_extended_b500.bed'\n",
    "    a = pybedtools.example_bedtool( bed_file )\n",
    "    # '/home/h5li/methylation_DMR/data/mm10.fasta'\n",
    "    fasta = pybedtools.example_filename( fasta_file )\n",
    "    a = a.sequence(fi=fasta)\n",
    "    seq = open(a.seqfn).read()\n",
    "    #read and extract DNA sequences \n",
    "    DNA_seq_list = seq.split('\\n')\n",
    "    DNA_seq_list.pop()\n",
    "    DNA_seq = []\n",
    "    m = 10000\n",
    "    n = 0\n",
    "    for index in range(len(DNA_seq_list)//2):\n",
    "        DNA_seq.append(DNA_seq_list[index*2 + 1].upper())\n",
    "        if len(DNA_seq_list[index*2 + 1]) < m:\n",
    "            m = len(DNA_seq_list[index*2 + 1])\n",
    "        if len(DNA_seq_list[index*2 + 1]) > n:\n",
    "            n = len(DNA_seq_list[index*2 + 1])\n",
    "    print('The shortest length of DNA sequence is {0}bp'.format(m))\n",
    "    print('The longest length of DNA sequence is {0}bp'.format(n))\n",
    "    print('Total Number of input sequence is {0}'.format(len(DNA_seq)))\n",
    "    return DNA_seq,n,m"
   ]
  },
  {
   "cell_type": "code",
   "execution_count": 3,
   "metadata": {},
   "outputs": [
    {
     "name": "stdout",
     "output_type": "stream",
     "text": [
      "The shortest length of DNA sequence is 1407bp\n",
      "The longest length of DNA sequence is 5829bp\n",
      "Total Number of input sequence is 58959\n"
     ]
    }
   ],
   "source": [
    "bed_file_path = '/home/h5li/methylation_DMR/data/DMR_coordinates_extended_b500.bed'\n",
    "fasta_file_path = '/home/h5li/methylation_DMR/data/mm10.fasta'\n",
    "DNA_seq,long_length,short_length = read_data(bed_file_path, fasta_file_path)   "
   ]
  },
  {
   "cell_type": "code",
   "execution_count": 4,
   "metadata": {},
   "outputs": [],
   "source": [
    "def chop_Data(targetLength,dnaSeqList):\n",
    "    #chop DNA sequences to have same length\n",
    "    Uni_DNA = []\n",
    "    for s in dnaSeqList:\n",
    "        if len(s) < targetLength:\n",
    "            print('Exceptions!')\n",
    "        diff = len(s) - targetLength\n",
    "        if diff % 2 == 0:\n",
    "            side = diff // 2\n",
    "            Uni_DNA.append(s[side:-side])\n",
    "        else:\n",
    "            right = diff // 2\n",
    "            left = diff// 2 + 1\n",
    "            Uni_DNA.append(s[left:-right])\n",
    "    return Uni_DNA"
   ]
  },
  {
   "cell_type": "code",
   "execution_count": 5,
   "metadata": {},
   "outputs": [],
   "source": [
    "target_length = 600\n",
    "DNA_seq = chop_Data(target_length,DNA_seq)"
   ]
  },
  {
   "cell_type": "code",
   "execution_count": 6,
   "metadata": {},
   "outputs": [],
   "source": [
    "Kmers = pd.read_csv('../../data/Kmers_K6_sequences.csv',header = None)\n",
    "Kmers = Kmers.as_matrix().reshape(1,-1)[0]"
   ]
  },
  {
   "cell_type": "code",
   "execution_count": 7,
   "metadata": {},
   "outputs": [],
   "source": [
    "result_list = [[] for x in range(len(DNA_seq))]"
   ]
  },
  {
   "cell_type": "code",
   "execution_count": 8,
   "metadata": {},
   "outputs": [
    {
     "name": "stdout",
     "output_type": "stream",
     "text": [
      "0\n",
      "1000\n",
      "2000\n",
      "3000\n",
      "4000\n",
      "5000\n",
      "6000\n",
      "7000\n",
      "8000\n",
      "9000\n",
      "10000\n",
      "11000\n",
      "12000\n",
      "13000\n",
      "14000\n",
      "15000\n",
      "16000\n",
      "17000\n",
      "18000\n",
      "19000\n",
      "20000\n",
      "21000\n",
      "22000\n",
      "23000\n",
      "24000\n",
      "25000\n",
      "26000\n",
      "27000\n",
      "28000\n",
      "29000\n",
      "30000\n",
      "31000\n",
      "32000\n",
      "33000\n",
      "34000\n",
      "35000\n",
      "36000\n",
      "37000\n",
      "38000\n",
      "39000\n",
      "40000\n",
      "41000\n",
      "42000\n",
      "43000\n",
      "44000\n",
      "45000\n",
      "46000\n",
      "47000\n",
      "48000\n",
      "49000\n",
      "50000\n",
      "51000\n",
      "52000\n",
      "53000\n",
      "54000\n",
      "55000\n",
      "56000\n",
      "57000\n",
      "58000\n"
     ]
    }
   ],
   "source": [
    "for i,d in enumerate(DNA_seq):\n",
    "    if i % 1000 == 0:\n",
    "        print(i)\n",
    "    for c in Kmers:\n",
    "        result_list[i].append(d.count(c))"
   ]
  },
  {
   "cell_type": "code",
   "execution_count": 9,
   "metadata": {},
   "outputs": [
    {
     "data": {
      "text/plain": [
       "(58959, 2080)"
      ]
     },
     "execution_count": 9,
     "metadata": {},
     "output_type": "execute_result"
    }
   ],
   "source": [
    "np.array(result_list).shape"
   ]
  },
  {
   "cell_type": "code",
   "execution_count": 10,
   "metadata": {},
   "outputs": [],
   "source": [
    "df = pd.DataFrame(data = np.array(result_list),columns = list(Kmers),dtype = 'int')"
   ]
  },
  {
   "cell_type": "code",
   "execution_count": 11,
   "metadata": {},
   "outputs": [
    {
     "data": {
      "text/html": [
       "<div>\n",
       "<style>\n",
       "    .dataframe thead tr:only-child th {\n",
       "        text-align: right;\n",
       "    }\n",
       "\n",
       "    .dataframe thead th {\n",
       "        text-align: left;\n",
       "    }\n",
       "\n",
       "    .dataframe tbody tr th {\n",
       "        vertical-align: top;\n",
       "    }\n",
       "</style>\n",
       "<table border=\"1\" class=\"dataframe\">\n",
       "  <thead>\n",
       "    <tr style=\"text-align: right;\">\n",
       "      <th></th>\n",
       "      <th>CCCCCC</th>\n",
       "      <th>CCCCCT</th>\n",
       "      <th>CCCCCA</th>\n",
       "      <th>CCCCCG</th>\n",
       "      <th>CCCCTC</th>\n",
       "      <th>CCCCTT</th>\n",
       "      <th>CCCCTA</th>\n",
       "      <th>CCCCTG</th>\n",
       "      <th>CCCCAC</th>\n",
       "      <th>CCCCAT</th>\n",
       "      <th>...</th>\n",
       "      <th>GGCCCC</th>\n",
       "      <th>GGCTCC</th>\n",
       "      <th>GGCACC</th>\n",
       "      <th>GGCGCC</th>\n",
       "      <th>GGTCCC</th>\n",
       "      <th>GGTTCC</th>\n",
       "      <th>GGTACC</th>\n",
       "      <th>GGACCC</th>\n",
       "      <th>GGATCC</th>\n",
       "      <th>GGGCCC</th>\n",
       "    </tr>\n",
       "  </thead>\n",
       "  <tbody>\n",
       "    <tr>\n",
       "      <th>0</th>\n",
       "      <td>0</td>\n",
       "      <td>0</td>\n",
       "      <td>0</td>\n",
       "      <td>0</td>\n",
       "      <td>0</td>\n",
       "      <td>1</td>\n",
       "      <td>0</td>\n",
       "      <td>1</td>\n",
       "      <td>0</td>\n",
       "      <td>0</td>\n",
       "      <td>...</td>\n",
       "      <td>0</td>\n",
       "      <td>0</td>\n",
       "      <td>0</td>\n",
       "      <td>0</td>\n",
       "      <td>1</td>\n",
       "      <td>0</td>\n",
       "      <td>1</td>\n",
       "      <td>0</td>\n",
       "      <td>0</td>\n",
       "      <td>0</td>\n",
       "    </tr>\n",
       "    <tr>\n",
       "      <th>1</th>\n",
       "      <td>0</td>\n",
       "      <td>1</td>\n",
       "      <td>0</td>\n",
       "      <td>0</td>\n",
       "      <td>1</td>\n",
       "      <td>0</td>\n",
       "      <td>0</td>\n",
       "      <td>0</td>\n",
       "      <td>0</td>\n",
       "      <td>0</td>\n",
       "      <td>...</td>\n",
       "      <td>0</td>\n",
       "      <td>0</td>\n",
       "      <td>0</td>\n",
       "      <td>0</td>\n",
       "      <td>0</td>\n",
       "      <td>0</td>\n",
       "      <td>0</td>\n",
       "      <td>0</td>\n",
       "      <td>0</td>\n",
       "      <td>0</td>\n",
       "    </tr>\n",
       "    <tr>\n",
       "      <th>2</th>\n",
       "      <td>0</td>\n",
       "      <td>0</td>\n",
       "      <td>0</td>\n",
       "      <td>0</td>\n",
       "      <td>0</td>\n",
       "      <td>0</td>\n",
       "      <td>0</td>\n",
       "      <td>0</td>\n",
       "      <td>0</td>\n",
       "      <td>0</td>\n",
       "      <td>...</td>\n",
       "      <td>0</td>\n",
       "      <td>0</td>\n",
       "      <td>1</td>\n",
       "      <td>0</td>\n",
       "      <td>0</td>\n",
       "      <td>0</td>\n",
       "      <td>0</td>\n",
       "      <td>0</td>\n",
       "      <td>0</td>\n",
       "      <td>0</td>\n",
       "    </tr>\n",
       "    <tr>\n",
       "      <th>3</th>\n",
       "      <td>0</td>\n",
       "      <td>0</td>\n",
       "      <td>0</td>\n",
       "      <td>0</td>\n",
       "      <td>0</td>\n",
       "      <td>0</td>\n",
       "      <td>0</td>\n",
       "      <td>1</td>\n",
       "      <td>0</td>\n",
       "      <td>1</td>\n",
       "      <td>...</td>\n",
       "      <td>0</td>\n",
       "      <td>0</td>\n",
       "      <td>0</td>\n",
       "      <td>0</td>\n",
       "      <td>0</td>\n",
       "      <td>0</td>\n",
       "      <td>0</td>\n",
       "      <td>0</td>\n",
       "      <td>0</td>\n",
       "      <td>0</td>\n",
       "    </tr>\n",
       "    <tr>\n",
       "      <th>4</th>\n",
       "      <td>0</td>\n",
       "      <td>0</td>\n",
       "      <td>1</td>\n",
       "      <td>0</td>\n",
       "      <td>0</td>\n",
       "      <td>0</td>\n",
       "      <td>0</td>\n",
       "      <td>0</td>\n",
       "      <td>0</td>\n",
       "      <td>1</td>\n",
       "      <td>...</td>\n",
       "      <td>0</td>\n",
       "      <td>1</td>\n",
       "      <td>0</td>\n",
       "      <td>0</td>\n",
       "      <td>0</td>\n",
       "      <td>2</td>\n",
       "      <td>0</td>\n",
       "      <td>0</td>\n",
       "      <td>0</td>\n",
       "      <td>0</td>\n",
       "    </tr>\n",
       "  </tbody>\n",
       "</table>\n",
       "<p>5 rows × 2080 columns</p>\n",
       "</div>"
      ],
      "text/plain": [
       "   CCCCCC  CCCCCT  CCCCCA  CCCCCG  CCCCTC  CCCCTT  CCCCTA  CCCCTG  CCCCAC  \\\n",
       "0       0       0       0       0       0       1       0       1       0   \n",
       "1       0       1       0       0       1       0       0       0       0   \n",
       "2       0       0       0       0       0       0       0       0       0   \n",
       "3       0       0       0       0       0       0       0       1       0   \n",
       "4       0       0       1       0       0       0       0       0       0   \n",
       "\n",
       "   CCCCAT   ...    GGCCCC  GGCTCC  GGCACC  GGCGCC  GGTCCC  GGTTCC  GGTACC  \\\n",
       "0       0   ...         0       0       0       0       1       0       1   \n",
       "1       0   ...         0       0       0       0       0       0       0   \n",
       "2       0   ...         0       0       1       0       0       0       0   \n",
       "3       1   ...         0       0       0       0       0       0       0   \n",
       "4       1   ...         0       1       0       0       0       2       0   \n",
       "\n",
       "   GGACCC  GGATCC  GGGCCC  \n",
       "0       0       0       0  \n",
       "1       0       0       0  \n",
       "2       0       0       0  \n",
       "3       0       0       0  \n",
       "4       0       0       0  \n",
       "\n",
       "[5 rows x 2080 columns]"
      ]
     },
     "execution_count": 11,
     "metadata": {},
     "output_type": "execute_result"
    }
   ],
   "source": [
    "df.head()"
   ]
  },
  {
   "cell_type": "code",
   "execution_count": 12,
   "metadata": {},
   "outputs": [],
   "source": [
    "df.to_csv('Kmers6_counts_600bp.csv',index = False)"
   ]
  },
  {
   "cell_type": "code",
   "execution_count": 13,
   "metadata": {},
   "outputs": [
    {
     "data": {
      "text/plain": [
       "(58959, 2080)"
      ]
     },
     "execution_count": 13,
     "metadata": {},
     "output_type": "execute_result"
    }
   ],
   "source": [
    "df.shape"
   ]
  },
  {
   "cell_type": "code",
   "execution_count": null,
   "metadata": {},
   "outputs": [],
   "source": []
  }
 ],
 "metadata": {
  "kernelspec": {
   "display_name": "Python 3",
   "language": "python",
   "name": "python3"
  },
  "language_info": {
   "codemirror_mode": {
    "name": "ipython",
    "version": 3
   },
   "file_extension": ".py",
   "mimetype": "text/x-python",
   "name": "python",
   "nbconvert_exporter": "python",
   "pygments_lexer": "ipython3",
   "version": "3.5.2"
  }
 },
 "nbformat": 4,
 "nbformat_minor": 2
}
