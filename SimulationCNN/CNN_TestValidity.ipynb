{
 "cells": [
  {
   "cell_type": "code",
   "execution_count": 13,
   "metadata": {},
   "outputs": [],
   "source": [
    "import numpy as np\n",
    "np.random.seed(3)\n",
    "from pybedtools import BedTool\n",
    "import pybedtools\n",
    "import pandas as pd\n",
    "import seaborn as sns\n",
    "\n",
    "import tensorflow as tf\n",
    "from keras.models import Sequential\n",
    "from keras.layers import Dense, Flatten, Dropout,BatchNormalization,Activation\n",
    "from keras.layers import Conv1D, MaxPooling1D,Conv2D,MaxPooling2D,GlobalAveragePooling1D, AveragePooling1D\n",
    "from keras.layers import Dropout\n",
    "from keras.optimizers import Adam,RMSprop\n",
    "from keras import regularizers as kr\n",
    "from keras import initializers\n",
    "from keras.callbacks import EarlyStopping\n",
    "from keras.utils import np_utils, to_categorical\n",
    "# custom R2-score metrics for keras backend\n",
    "from tensorflow.python.keras import backend as K\n",
    "import matplotlib.pyplot as plt\n",
    "\n",
    "import os\n",
    "from sklearn.metrics import r2_score\n",
    "from tensorflow.python.keras.callbacks import EarlyStopping\n",
    "\n",
    "from sklearn import linear_model\n",
    "from sklearn.svm import LinearSVC\n",
    "\n",
    "import random"
   ]
  },
  {
   "cell_type": "code",
   "execution_count": 14,
   "metadata": {},
   "outputs": [],
   "source": [
    "#parameter setting...\n",
    "cell_type = 5\n",
    "apply_sample_weight = False\n",
    "target_length = 600\n",
    "filter_length = 5"
   ]
  },
  {
   "cell_type": "code",
   "execution_count": 15,
   "metadata": {},
   "outputs": [],
   "source": [
    "def read_data(bed_file,fasta_file):\n",
    "    #apply bedtools to read fasta files '/home/h5li/methylation_DMR/data/DMR_coordinates_extended_b500.bed'\n",
    "    a = pybedtools.example_bedtool( bed_file )\n",
    "    # '/home/h5li/methylation_DMR/data/mm10.fasta'\n",
    "    fasta = pybedtools.example_filename( fasta_file )\n",
    "    a = a.sequence(fi=fasta)\n",
    "    seq = open(a.seqfn).read()\n",
    "    #read and extract DNA sequences \n",
    "    DNA_seq_list = seq.split('\\n')\n",
    "    DNA_seq_list.pop()\n",
    "    DNA_seq = []\n",
    "    m = 10000\n",
    "    n = 0\n",
    "    for index in range(len(DNA_seq_list)//2):\n",
    "        DNA_seq.append(DNA_seq_list[index*2 + 1].upper())\n",
    "        if len(DNA_seq_list[index*2 + 1]) < m:\n",
    "            m = len(DNA_seq_list[index*2 + 1])\n",
    "        if len(DNA_seq_list[index*2 + 1]) > n:\n",
    "            n = len(DNA_seq_list[index*2 + 1])\n",
    "    print('The shortest length of DNA sequence is {0}bp'.format(m))\n",
    "    print('The longest length of DNA sequence is {0}bp'.format(n))\n",
    "    print('Total Number of input sequence is {0}'.format(len(DNA_seq)))\n",
    "    return DNA_seq,n,m"
   ]
  },
  {
   "cell_type": "code",
   "execution_count": 16,
   "metadata": {},
   "outputs": [],
   "source": [
    "def extend_Data(targetLength,dnaSeqList):\n",
    "    newDNAList = []\n",
    "    for seq in dnaSeqList:\n",
    "        if len(seq) < targetLength:\n",
    "            diff = targetLength - len(seq)\n",
    "            if diff % 2 == 0:\n",
    "                seq += 'N' * (diff//2)\n",
    "                seq = 'N' * (diff//2) + seq\n",
    "            if diff % 2 ==1:\n",
    "                seq += 'N' *(diff//2)\n",
    "                seq = 'N' * (diff//2 + 1) + seq\n",
    "        newDNAList.append(seq)\n",
    "    return newDNAList\n",
    "\n",
    "def chop_Data(targetLength,dnaSeqList):\n",
    "    #chop DNA sequences to have same length\n",
    "    Uni_DNA = []\n",
    "    for s in dnaSeqList:\n",
    "        if len(s) < targetLength:\n",
    "            print('Exceptions!')\n",
    "        diff = len(s) - targetLength\n",
    "        if diff % 2 == 0:\n",
    "            side = diff // 2\n",
    "            Uni_DNA.append(s[side:-side])\n",
    "        else:\n",
    "            right = diff // 2\n",
    "            left = diff// 2 + 1\n",
    "            Uni_DNA.append(s[left:-right])\n",
    "    return Uni_DNA"
   ]
  },
  {
   "cell_type": "code",
   "execution_count": 17,
   "metadata": {},
   "outputs": [],
   "source": [
    "#below are helper methods\n",
    "def data_aug(seq):\n",
    "    new_seq = []\n",
    "    for i in range(len(seq)):\n",
    "        l = seq[i]\n",
    "        if l == 'A':\n",
    "            new_seq.append( 'T' )\n",
    "        elif l == 'C':\n",
    "            new_seq.append( 'G' )\n",
    "        elif l == 'G':\n",
    "            new_seq.append( 'C' )\n",
    "        elif l == 'T':\n",
    "            new_seq.append( 'A' )\n",
    "        else:\n",
    "            new_seq.append( 'N' )\n",
    "    return new_seq\n",
    "\n",
    "def data_rev(seq):\n",
    "    new_seq = [None] * len(seq)\n",
    "    for i in range(len(seq)):\n",
    "        new_seq[-i] = seq[i]\n",
    "    return new_seq      \n",
    "\n",
    "def mse_keras(y_true, y_pred):\n",
    "    SS_res =  K.sum( K.square( y_true - y_pred ) ) \n",
    "    SS_tot = K.sum( K.square( y_true - K.mean( y_true ) ) ) \n",
    "    return ( SS_res/SS_tot)\n",
    "\n",
    "def R2_score(y_true, y_pred):\n",
    "    SS_res =  K.sum(K.square( y_true-y_pred )) \n",
    "    SS_tot = K.sum(K.square( y_true - K.mean(y_true) ) ) \n",
    "    return ( 1 - SS_res/(SS_tot) )"
   ]
  },
  {
   "cell_type": "code",
   "execution_count": 18,
   "metadata": {},
   "outputs": [],
   "source": [
    "def preprocess_data(DNA_seq):\n",
    "\n",
    "    train_size = len(DNA_seq)\n",
    "\n",
    "    #One hot encoding \n",
    "    DNA = []\n",
    "    for u in DNA_seq:\n",
    "        sequence_vector = []\n",
    "        for c in u:\n",
    "            if c == 'A':\n",
    "                sequence_vector.append([1,0,0,0])\n",
    "            elif c == 'C':\n",
    "                sequence_vector.append([0,1,0,0])\n",
    "            elif c == 'G':\n",
    "                sequence_vector.append([0,0,1,0])\n",
    "            else:\n",
    "                sequence_vector.append([0,0,0,1])\n",
    "        DNA.append(np.array(sequence_vector))\n",
    "    DNA = np.array(DNA)\n",
    "    print(DNA.shape)\n",
    "    return DNA"
   ]
  },
  {
   "cell_type": "code",
   "execution_count": 19,
   "metadata": {},
   "outputs": [],
   "source": [
    "def Formalize_Data(DNA_seq, methylation_file, target_length, cell_type):\n",
    "    #Read Methylation level\n",
    "    labels = list(pd.read_csv(methylation_file,header = None)[cell_type])\n",
    "    train_labels = np.array(labels)\n",
    "    training_seq_shape = (len(DNA_seq),target_length,4)\n",
    "    train_data = DNA_seq.reshape(training_seq_shape)\n",
    "    return train_data,train_labels"
   ]
  },
  {
   "cell_type": "code",
   "execution_count": 20,
   "metadata": {},
   "outputs": [
    {
     "name": "stdout",
     "output_type": "stream",
     "text": [
      "The shortest length of DNA sequence is 1407bp\n",
      "The longest length of DNA sequence is 5829bp\n",
      "Total Number of input sequence is 58959\n"
     ]
    }
   ],
   "source": [
    "bed_file_path = '/home/h5li/methylation_DMR/data/DMR_coordinates_extended_b500.bed'\n",
    "fasta_file_path = '/home/h5li/methylation_DMR/data/mm10.fasta'\n",
    "methylation_file_path = '../../data/Mouse_DMRs_methylation_level.csv'\n",
    "total_counts_file_path ='../../data/Mouse_DMRs_counts_total.csv'\n",
    "methy_counts_file_path = '../../data/Mouse_DMRs_counts_methylated.csv'\n",
    "    \n",
    "DNA_seq,long_length,short_length = read_data(bed_file_path, fasta_file_path)   "
   ]
  },
  {
   "cell_type": "code",
   "execution_count": 21,
   "metadata": {},
   "outputs": [],
   "source": [
    "DNA_seq = chop_Data(target_length,DNA_seq)"
   ]
  },
  {
   "cell_type": "code",
   "execution_count": 22,
   "metadata": {},
   "outputs": [
    {
     "name": "stdout",
     "output_type": "stream",
     "text": [
      "600\n"
     ]
    }
   ],
   "source": [
    "print(len(DNA_seq[0]))"
   ]
  },
  {
   "cell_type": "code",
   "execution_count": 11,
   "metadata": {},
   "outputs": [
    {
     "ename": "SyntaxError",
     "evalue": "invalid syntax (<ipython-input-11-544c73f032de>, line 30)",
     "output_type": "error",
     "traceback": [
      "\u001b[0;36m  File \u001b[0;32m\"<ipython-input-11-544c73f032de>\"\u001b[0;36m, line \u001b[0;32m30\u001b[0m\n\u001b[0;31m    print('Ground Truth Motif is: 'groundtruth)\u001b[0m\n\u001b[0m                                             ^\u001b[0m\n\u001b[0;31mSyntaxError\u001b[0m\u001b[0;31m:\u001b[0m invalid syntax\n"
     ]
    }
   ],
   "source": [
    "#This Part of code id used to check the validity of CNN architecture\n",
    "\n",
    "#We plan to start from single pattern in DNA sequence and the DNA methylation level is 0 or 1.\n",
    "#Then we try with the same pattern and we use a random normal distribution to evaluate the\n",
    "#methylation level to further simulate the DMR regions\n",
    "\n",
    "\n",
    "# single pattern starts from here\n",
    "\n",
    "# find out the most common patter first\n",
    "'''Kmers_count = pd.read_csv('/cndd/emukamel/snmCSeq/DMR/Kmer_Features/Kmers_K{}_counts.csv'.format(filter_length),header = None)\n",
    "Kmers_count = Kmers_count.drop([0],axis = 1)\n",
    "\n",
    "maxNum = 0\n",
    "maxIndex = 0\n",
    "for n in Kmers_count.columns:\n",
    "    if Kmers_count[n].sum() > maxNum:\n",
    "        maxNum = Kmers_count[n].sum()\n",
    "        maxIndex = n - 1\n",
    "print(maxIndex, maxNum)\n",
    "\n",
    "targetKmers = pd.read_csv('/cndd/emukamel/snmCSeq/DMR/Kmer_Features/Kmers_K{}_sequences.csv'.format(filter_length),header = None)[0][maxIndex]\n",
    "#targetKmers += 'G'\n",
    "print(targetKmers)'''\n",
    "\n",
    "targetKmers = ['AGACTG']\n",
    "\n",
    "def CompareCNN_LASSO( groundtruth, DNA_seq, counts):\n",
    "    \n",
    "    print('Ground Truth Motif is: ',groundtruth)\n",
    "    targetKmers = []\n",
    "    \n",
    "    fileKmers = pd.read_csv('Kmers_K6_sequences.csv',header = None)[0]\n",
    "    \n",
    "    while len(targetKmers) < 10:\n",
    "        num = random.randint(0,len(fileKmers)-1)\n",
    "        if fileKmers[num] not in targetKmers:\n",
    "            targetKmers.append(fileKmers[n])\n",
    "    \n",
    "    methylation_level = []\n",
    "    DNA_len100 = []\n",
    "    m1 = 0\n",
    "    m0 = 0\n",
    "    for n in range(len(DNA_seq)):\n",
    "        hasKmers = False\n",
    "        for t in targetKmers:\n",
    "            if t in DNA_seq[n]:\n",
    "                methylation_level.append(1)\n",
    "                DNA_len100.append(DNA_seq[n])\n",
    "                hasKmers = True\n",
    "                break;\n",
    "        if not hasKmers:\n",
    "            methylation_level.append(0)\n",
    "            DNA_len100.append(DNA_seq[n])\n",
    "    print('Ratio of this motif: ',sum(methylation_level)/len(methylation_level))\n",
    "    DNA = preprocess_data(DNA_len100)\n",
    "    train_data,train_labels = Formalize_Data(DNA, methylation_file_path, target_length, cell_type)\n",
    "    #train_labels = train_labels - np.full((train_labels.shape),np.mean(train_labels))\n",
    "    #train_labels = to_categorical(np.array(methylation_level))\n",
    "    train_labels = np.array(methylation_level)\n",
    "    init = initializers.RandomNormal(mean=0, stddev=0.5, seed=None)\n",
    "    k_r = kr.l2(1e-6)\n",
    "    \n",
    "    nfilt = 1\n",
    "    filtlength = 6\n",
    "    num_filters = 1\n",
    "    maxPsize = 100\n",
    "    seqlen = target_length;\n",
    "    model = Sequential()\n",
    "    model.add(Conv1D(filters=num_filters, kernel_size=filtlength,kernel_initializer = 'ones',padding = 'same',\n",
    "                 input_shape=(seqlen,4), activation='relu'))\n",
    "    model.add(GlobalAveragePooling1D())\n",
    "    model.add(Dense(1, kernel_initializer= 'ones' ,activation='sigmoid'))\n",
    "    model.compile(optimizer= Adam(lr = 0.01),\n",
    "              loss='binary_crossentropy',\n",
    "              metrics=['accuracy'])\n",
    "    \n",
    "    callbacks = [EarlyStopping(monitor='val_loss', patience=10,mode = 'min')]\n",
    "    history = model.fit(train_data, train_labels, epochs=500, callbacks = callbacks,\n",
    "                    validation_split = 0.25,shuffle = False,\n",
    "                        batch_size=100,verbose=2)\n",
    "    \n",
    "    #RUN LASSO\n",
    "    x = counts.as_matrix()\n",
    "    y = np.array(methylation_level)\n",
    "    data = np.concatenate((x, y.reshape(-1,1)), axis=1)\n",
    "    np.random.shuffle(data)\n",
    "    train = data[:48000]\n",
    "    test = data[48000:]\n",
    "    train_features = train[:,:-1]\n",
    "    train_methy_levels = train[:,-1]\n",
    "    test_features = test[:,:-1]\n",
    "    test_methy_levels = test[:,-1]\n",
    "    \n",
    "    C_list = [10**-3,10**-1,1]\n",
    "    print('Training for SVM')\n",
    "    for c in C_list:\n",
    "        clf = LinearSVC(penalty='l2',loss = 'hinge', C = c)\n",
    "        clf.fit(train_features,train_methy_levels)\n",
    "        a_score = clf.score(test_features,test_methy_levels)\n",
    "        print('\\tParameter: ',c,'Test_accuracy',a_score,'Train Accuracy',clf.score(train_features,train_methy_levels))\n",
    "        \n",
    "    print(\"========================================================\")"
   ]
  },
  {
   "cell_type": "code",
   "execution_count": 73,
   "metadata": {},
   "outputs": [
    {
     "data": {
      "image/png": "[encoded data removed]",
      "text/plain": [
       "<matplotlib.figure.Figure at 0x7fcdd87ce5f8>"
      ]
     },
     "metadata": {
      "needs_background": "light"
     },
     "output_type": "display_data"
    },
    {
     "data": {
      "image/png": "[encoded data removed]",
      "text/plain": [
       "<matplotlib.figure.Figure at 0x7fcdd87e6780>"
      ]
     },
     "metadata": {
      "needs_background": "light"
     },
     "output_type": "display_data"
    }
   ],
   "source": [
    "plt.plot(history.history['acc'])\n",
    "plt.plot(history.history['val_acc'])\n",
    "plt.title('CNN Accuracy')\n",
    "plt.ylabel('Accuracy')\n",
    "plt.xlabel('epoch')\n",
    "plt.legend(['train', 'test'], loc='upper left')\n",
    "plt.show()\n",
    "\n",
    "plt.plot(history.history['loss'])\n",
    "plt.plot(history.history['val_loss'])\n",
    "plt.title('CNN Loss')\n",
    "plt.ylabel('Loss')\n",
    "plt.xlabel('epoch')\n",
    "plt.legend(['train', 'test'], loc='upper left')\n",
    "plt.show()"
   ]
  },
  {
   "cell_type": "code",
   "execution_count": 74,
   "metadata": {},
   "outputs": [],
   "source": [
    "weight = model.get_weights()"
   ]
  },
  {
   "cell_type": "code",
   "execution_count": 75,
   "metadata": {},
   "outputs": [
    {
     "data": {
      "text/plain": [
       "[array([[[ 5.6270267e+01],\n",
       "         [-3.7824615e+01],\n",
       "         [-4.2566544e+01],\n",
       "         [-4.2668846e+01]],\n",
       " \n",
       "        [[-5.5961708e+01],\n",
       "         [-5.5962288e+01],\n",
       "         [ 4.0327368e+00],\n",
       "         [-5.5961220e+01]],\n",
       " \n",
       "        [[-1.0200694e+01],\n",
       "         [-7.0197815e+01],\n",
       "         [-7.0197098e+01],\n",
       "         [-7.0196129e+01]],\n",
       " \n",
       "        [[-6.0047348e+01],\n",
       "         [-5.2097656e-02],\n",
       "         [-6.0047882e+01],\n",
       "         [-6.0045948e+01]],\n",
       " \n",
       "        [[-5.4580334e+01],\n",
       "         [-5.4577290e+01],\n",
       "         [-5.4578102e+01],\n",
       "         [ 5.4149518e+00]],\n",
       " \n",
       "        [[-3.9180489e+01],\n",
       "         [-3.8522903e+01],\n",
       "         [ 5.6008125e+01],\n",
       "         [-3.9220814e+01]]], dtype=float32),\n",
       " array([-51.480915], dtype=float32),\n",
       " array([[327.6317]], dtype=float32),\n",
       " array([-16.121414], dtype=float32)]"
      ]
     },
     "execution_count": 75,
     "metadata": {},
     "output_type": "execute_result"
    }
   ],
   "source": [
    "weight"
   ]
  },
  {
   "cell_type": "code",
   "execution_count": 76,
   "metadata": {},
   "outputs": [
    {
     "name": "stdout",
     "output_type": "stream",
     "text": [
      "['AGACTG']\n"
     ]
    },
    {
     "data": {
      "image/png": "[encoded data removed]",
      "text/plain": [
       "<matplotlib.figure.Figure at 0x7fcdd87df550>"
      ]
     },
     "metadata": {
      "needs_background": "light"
     },
     "output_type": "display_data"
    }
   ],
   "source": [
    "print(targetKmers)\n",
    "convFilter = weight[0]\n",
    "ax = sns.heatmap(convFilter[:,:,0].T)\n",
    "plt.show()"
   ]
  },
  {
   "cell_type": "markdown",
   "metadata": {},
   "source": [
    "# LASSO Regression"
   ]
  },
  {
   "cell_type": "code",
   "execution_count": 77,
   "metadata": {},
   "outputs": [],
   "source": []
  },
  {
   "cell_type": "code",
   "execution_count": 80,
   "metadata": {},
   "outputs": [],
   "source": [
    "counts = pd.read_csv('Kmers6_counts_600bp.csv')"
   ]
  },
  {
   "cell_type": "code",
   "execution_count": 81,
   "metadata": {},
   "outputs": [],
   "source": []
  },
  {
   "cell_type": "code",
   "execution_count": 82,
   "metadata": {},
   "outputs": [],
   "source": []
  },
  {
   "cell_type": "code",
   "execution_count": 83,
   "metadata": {},
   "outputs": [
    {
     "data": {
      "text/plain": [
       "(58959, 2081)"
      ]
     },
     "execution_count": 83,
     "metadata": {},
     "output_type": "execute_result"
    }
   ],
   "source": [
    "data.shape"
   ]
  },
  {
   "cell_type": "code",
   "execution_count": 90,
   "metadata": {},
   "outputs": [],
   "source": []
  },
  {
   "cell_type": "code",
   "execution_count": 101,
   "metadata": {},
   "outputs": [
    {
     "name": "stdout",
     "output_type": "stream",
     "text": [
      "0.0001 0.7812756638379414 0.7839166666666667\n",
      "0.001 0.8121178939684278 0.823\n",
      "0.01 0.8330139611278401 0.8567291666666667\n",
      "0.1 0.8349301943607993 0.8608333333333333\n",
      "1 0.8354776895702163 0.8602916666666667\n"
     ]
    }
   ],
   "source": []
  },
  {
   "cell_type": "code",
   "execution_count": 102,
   "metadata": {},
   "outputs": [
    {
     "data": {
      "text/plain": [
       "0.8354776895702163"
      ]
     },
     "execution_count": 102,
     "metadata": {},
     "output_type": "execute_result"
    }
   ],
   "source": [
    "a_score"
   ]
  },
  {
   "cell_type": "code",
   "execution_count": 87,
   "metadata": {},
   "outputs": [
    {
     "data": {
      "text/plain": [
       "array([ 0.49416513,  0.36299136,  0.15559314, ...,  0.06244951,\n",
       "       -0.03263932,  0.51914156])"
      ]
     },
     "execution_count": 87,
     "metadata": {},
     "output_type": "execute_result"
    }
   ],
   "source": [
    "clf.predict(test_features)"
   ]
  },
  {
   "cell_type": "code",
   "execution_count": null,
   "metadata": {},
   "outputs": [],
   "source": []
  }
 ],
 "metadata": {
  "kernelspec": {
   "display_name": "Python 3",
   "language": "python",
   "name": "python3"
  },
  "language_info": {
   "codemirror_mode": {
    "name": "ipython",
    "version": 3
   },
   "file_extension": ".py",
   "mimetype": "text/x-python",
   "name": "python",
   "nbconvert_exporter": "python",
   "pygments_lexer": "ipython3",
   "version": "3.5.2"
  }
 },
 "nbformat": 4,
 "nbformat_minor": 2
}
