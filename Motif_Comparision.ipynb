{
 "cells": [
  {
   "cell_type": "markdown",
   "metadata": {},
   "source": [
    "# Motif Comparision\n",
    "\n",
    "#### This file is used to compared motifs learned or selected by Lasso, GLM of Logit and CNN"
   ]
  },
  {
   "cell_type": "code",
   "execution_count": 1,
   "metadata": {},
   "outputs": [],
   "source": [
    "import numpy as np\n",
    "import matplotlib as plt\n",
    "import pandas as pd"
   ]
  },
  {
   "cell_type": "code",
   "execution_count": 2,
   "metadata": {},
   "outputs": [],
   "source": [
    "# Some helper functions\n",
    "def convertMotif(motif):\n",
    "    '''Convert motif into matrix'''\n",
    "    #One hot encoding \n",
    "    sequence_vector = []\n",
    "    for c in motif:\n",
    "        if c == 'A':\n",
    "            sequence_vector.append([1,0,0,0])\n",
    "        elif c == 'C':\n",
    "            sequence_vector.append([0,1,0,0])\n",
    "        elif c == 'G':\n",
    "            sequence_vector.append([0,0,1,0])\n",
    "        else:\n",
    "            sequence_vector.append([0,0,0,1])\n",
    "    #print(np.array(sequence_vector).shape)\n",
    "    return np.array(sequence_vector)\n",
    "def convertMatrix(matrix):\n",
    "    '''Convert matrix into motifs'''\n",
    "    m = matrix.T\n",
    "    motif = ''\n",
    "    for i in m:\n",
    "        index = np.where(i==max(i))[0]\n",
    "        if index == 0:\n",
    "            motif += 'A'\n",
    "        elif index == 1:\n",
    "            motif += 'C'\n",
    "        elif index == 2:\n",
    "            motif += 'G'\n",
    "        else:\n",
    "            motif += 'T'\n",
    "    return motif\n",
    "\n",
    "def normalize(m):\n",
    "    '''Normalize Matrix'''\n",
    "    new_matrix = []\n",
    "    for i in range(m.shape[1]):\n",
    "        col = m[:,i]\n",
    "        s = sum(col)\n",
    "        col = col/s\n",
    "        new_matrix.append(col)\n",
    "    new_matrix = np.array(new_matrix).T\n",
    "    return new_matrix"
   ]
  },
  {
   "cell_type": "markdown",
   "metadata": {},
   "source": [
    "## First, Let's compare GLM and LASSO"
   ]
  },
  {
   "cell_type": "code",
   "execution_count": 34,
   "metadata": {},
   "outputs": [],
   "source": [
    "# Load the weights we trained From CNN neural network\n",
    "CNN_weight = np.load('CNN_weight.npy')"
   ]
  },
  {
   "cell_type": "code",
   "execution_count": 35,
   "metadata": {},
   "outputs": [],
   "source": [
    "# We want to take care of motifs that has a negative effect on DNA methylation. \n",
    "# Therefore we take the absolute value of each PWM\n",
    "PWM = [normalize(m) for m in CNN_weight]"
   ]
  },
  {
   "cell_type": "code",
   "execution_count": 36,
   "metadata": {},
   "outputs": [],
   "source": [
    "# Read in DNA Motifs\n",
    "Kmers6 = [m[0] for m in pd.read_csv(\"../data/Kmers_K6_sequences.csv\",header = None).as_matrix()]"
   ]
  },
  {
   "cell_type": "code",
   "execution_count": 37,
   "metadata": {},
   "outputs": [],
   "source": [
    "motifs = [convertMotif(m).T for m in Kmers6]"
   ]
  },
  {
   "cell_type": "code",
   "execution_count": 48,
   "metadata": {},
   "outputs": [],
   "source": [
    "CNN = []\n",
    "for i,m in enumerate(motifs):\n",
    "    product = []\n",
    "    for p in PWM:\n",
    "        s = np.multiply(m,p)\n",
    "        product.append(sum(sum(s)))\n",
    "    CNN.append( (i,max(product)) )\n",
    "CNN.sort(key = lambda x: x[1], reverse = True)\n",
    "CNN_order = [s[0] for s in CNN]\n",
    "CNN_dict = {}\n",
    "for s in CNN:\n",
    "    CNN_dict[s[0]] = s[1]"
   ]
  },
  {
   "cell_type": "code",
   "execution_count": 26,
   "metadata": {},
   "outputs": [],
   "source": [
    "# Read in GLM Params\n",
    "GLM = np.load('GLM_Binomial.npy')\n",
    "GLM = sorted([(i,p) for i,p in enumerate(GLM) if i != 2080], key = lambda x: x[1],reverse=True)"
   ]
  },
  {
   "cell_type": "code",
   "execution_count": 27,
   "metadata": {},
   "outputs": [],
   "source": [
    "# Read in LASSO Params\n",
    "LASSO = np.load('Lasso_params.npy')\n",
    "LASSO = sorted([i for i,p in enumerate(LASSO) if i != 2080], key = lambda x: x[1], reverse = True)"
   ]
  },
  {
   "cell_type": "code",
   "execution_count": 44,
   "metadata": {},
   "outputs": [],
   "source": [
    "GLM_order = [i[0] for i in GLM]\n",
    "LASSO_order = [i[0] for i in LASSO]\n",
    "GLM_dict = {}\n",
    "LASSO_dict = {}\n",
    "for i in range(len(LASSO)):\n",
    "    LASSO_dict[LASSO[i][0]] = LASSO[i][1]\n",
    "    GLM_dict[GLM[i][0]] = GLM[i][1]"
   ]
  },
  {
   "cell_type": "code",
   "execution_count": 32,
   "metadata": {},
   "outputs": [],
   "source": [
    "# Compare how much these two lists containing the same order\n",
    "def compare_two_lists(list1,list2):\n",
    "    num_match = 0\n",
    "    for i,motif in enumerate(list1):\n",
    "        previous_1 = list1[:i]\n",
    "        j = list2.index(motif)\n",
    "        if i != j:\n",
    "            continue\n",
    "        previous_2 = list2[:j]\n",
    "        if set(previous_1) == set(previous_2):\n",
    "            num_match += 1\n",
    "    return num_match*100/len(list2)      "
   ]
  },
  {
   "cell_type": "code",
   "execution_count": 47,
   "metadata": {},
   "outputs": [
    {
     "name": "stdout",
     "output_type": "stream",
     "text": [
      "Check if three lists' order matches\n",
      "LASSO vs GLM:  0.0\n",
      "GLM vs CNN:  0.0\n",
      "LASSO vs CNN:  0.0\n"
     ]
    }
   ],
   "source": [
    "print('Check if three lists\\' order matches')\n",
    "print(\"LASSO vs GLM: \",compare_two_lists(LASSO_order,GLM_order))\n",
    "print(\"GLM vs CNN: \", compare_two_lists(CNN_order,GLM_order))\n",
    "print(\"LASSO vs CNN: \", compare_two_lists(CNN_order,LASSO_order))"
   ]
  },
  {
   "cell_type": "code",
   "execution_count": 50,
   "metadata": {},
   "outputs": [],
   "source": [
    "def motif_importance_comparison(dict1,dict2):\n",
    "    num_agree = 0\n",
    "    num_total = 0\n",
    "    for i in range(len(dict1)):\n",
    "        for j in range(i+1,len(dict1)):\n",
    "            if not (dict1[i] >= dict1[j] != dict2[i] >= dict2[j]):\n",
    "                num_agree +=1\n",
    "            num_total += 1\n",
    "    return num_agree*100/num_total"
   ]
  },
  {
   "cell_type": "code",
   "execution_count": 54,
   "metadata": {},
   "outputs": [
    {
     "name": "stdout",
     "output_type": "stream",
     "text": [
      "Enumerate each pair of motifs, and check if their weights order in different classifier match\n",
      "LASSO vs GLM: 62.862045362045365%\n",
      "GLM vs CNN: 78.24545824545825%\n",
      "LASSO vs CNN: 74.67957967957967%\n"
     ]
    }
   ],
   "source": [
    "print(\"Enumerate each pair of motifs, and check if their weights order in different classifier match\")\n",
    "print(\"LASSO vs GLM: {0}%\".format(motif_importance_comparison(LASSO_dict,GLM_dict)))\n",
    "print(\"GLM vs CNN: {0}%\".format(motif_importance_comparison(GLM_dict,CNN_dict)))\n",
    "print(\"LASSO vs CNN: {0}%\".format(motif_importance_comparison(CNN_dict,LASSO_dict)))"
   ]
  },
  {
   "cell_type": "code",
   "execution_count": null,
   "metadata": {},
   "outputs": [],
   "source": []
  }
 ],
 "metadata": {
  "kernelspec": {
   "display_name": "Python 3",
   "language": "python",
   "name": "python3"
  },
  "language_info": {
   "codemirror_mode": {
    "name": "ipython",
    "version": 3
   },
   "file_extension": ".py",
   "mimetype": "text/x-python",
   "name": "python",
   "nbconvert_exporter": "python",
   "pygments_lexer": "ipython3",
   "version": "3.5.2"
  }
 },
 "nbformat": 4,
 "nbformat_minor": 2
}
